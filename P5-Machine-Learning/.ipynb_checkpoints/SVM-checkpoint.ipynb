{
 "cells": [
  {
   "cell_type": "code",
   "execution_count": 4,
   "metadata": {
    "scrolled": true
   },
   "outputs": [
    {
     "name": "stdout",
     "output_type": "stream",
     "text": [
      "no. of Chris training emails: 7936\n",
      "no. of Sara training emails: 7884\n",
      "training time: 1113.339 s\n",
      "predicting time: 119.851 s\n",
      "0.492036405006\n"
     ]
    }
   ],
   "source": [
    "#!/usr/bin/python\n",
    "\n",
    "\"\"\" \n",
    "    This is the code to accompany the Lesson 2 (SVM) mini-project.\n",
    "    Use a SVM to identify emails from the Enron corpus by their authors:    \n",
    "    Sara has label 0\n",
    "    Chris has label 1\n",
    "\"\"\"\n",
    "\n",
    "import sys\n",
    "from time import time\n",
    "sys.path.append(\"C:/Users/Saisandeep/Documents/Udacity Data Analyst/Machine-Learning/ud120-projects/tools/\")\n",
    "from email_preprocess import preprocess\n",
    "\n",
    "\n",
    "### features_train and features_test are the features for the training\n",
    "### and testing datasets, respectively\n",
    "### labels_train and labels_test are the corresponding item labels\n",
    "features_train, features_test, labels_train, labels_test = \\\n",
    "preprocess(words_file = \"C:/Users/Saisandeep/Documents/Udacity Data Analyst/Machine-Learning/ud120-projects/tools\\\n",
    "/word_data.pkl\", authors_file = \"C:/Users/Saisandeep/Documents/Udacity Data Analyst/Machine-Learning/ud120-projects\\\n",
    "/tools/email_authors.pkl\")\n",
    "\n",
    "\n",
    "#########################################################\n",
    "### your code goes here ###\n",
    "from sklearn import svm\n",
    "\n",
    "x = features_train\n",
    "y = labels_train\n",
    "\n",
    "clf = svm.SVC()\n",
    "\n",
    "\n",
    "t0 = time()\n",
    "clf.fit(x,y)\n",
    "print \"training time:\", round(time()-t0, 3), \"s\"\n",
    "\n",
    "#Predict Output \n",
    "t1 = time()\n",
    "predicted= clf.predict(features_test)\n",
    "print \"predicting time:\", round(time()-t1, 3), \"s\"\n",
    "\n",
    "accuracy = float(sum(predicted == labels_test))/len(predicted)\n",
    "print accuracy\n",
    "\n",
    "#########################################################"
   ]
  },
  {
   "cell_type": "code",
   "execution_count": 5,
   "metadata": {},
   "outputs": [
    {
     "name": "stdout",
     "output_type": "stream",
     "text": [
      "training time: 197.814 s\n",
      "predicting time: 22.045 s\n",
      "0.984072810011\n"
     ]
    }
   ],
   "source": [
    "from sklearn import svm\n",
    "\n",
    "x = features_train\n",
    "y = labels_train\n",
    "\n",
    "clf = svm.SVC(kernel = 'linear')\n",
    "\n",
    "\n",
    "t0 = time()\n",
    "clf.fit(x,y)\n",
    "print \"training time:\", round(time()-t0, 3), \"s\"\n",
    "\n",
    "#Predict Output \n",
    "t1 = time()\n",
    "predicted= clf.predict(features_test)\n",
    "print \"predicting time:\", round(time()-t1, 3), \"s\"\n",
    "\n",
    "accuracy = float(sum(predicted == labels_test))/len(predicted)\n",
    "print accuracy\n"
   ]
  },
  {
   "cell_type": "code",
   "execution_count": null,
   "metadata": {
    "collapsed": true
   },
   "outputs": [],
   "source": []
  },
  {
   "cell_type": "code",
   "execution_count": 8,
   "metadata": {},
   "outputs": [
    {
     "name": "stdout",
     "output_type": "stream",
     "text": [
      "training time: 0.119 s\n",
      "predicting time: 1.048 s\n",
      "0.884527872582\n"
     ]
    }
   ],
   "source": [
    "\n",
    "features_train = features_train[:len(features_train)/100] \n",
    "labels_train = labels_train[:len(labels_train)/100] \n",
    "\n",
    "x = features_train\n",
    "y = labels_train\n",
    "\n",
    "clf = svm.SVC(kernel = 'linear')\n",
    "\n",
    "\n",
    "t0 = time()\n",
    "clf.fit(x,y)\n",
    "print \"training time:\", round(time()-t0, 3), \"s\"\n",
    "\n",
    "#Predict Output \n",
    "t1 = time()\n",
    "predicted= clf.predict(features_test)\n",
    "print \"predicting time:\", round(time()-t1, 3), \"s\"\n",
    "\n",
    "accuracy = float(sum(predicted == labels_test))/len(predicted)\n",
    "print accuracy\n"
   ]
  },
  {
   "cell_type": "code",
   "execution_count": 20,
   "metadata": {},
   "outputs": [
    {
     "name": "stdout",
     "output_type": "stream",
     "text": [
      "no. of Chris training emails: 7936\n",
      "no. of Sara training emails: 7884\n"
     ]
    }
   ],
   "source": [
    "#!/usr/bin/python\n",
    "\n",
    "\"\"\" \n",
    "    This is the code to accompany the Lesson 2 (SVM) mini-project.\n",
    "    Use a SVM to identify emails from the Enron corpus by their authors:    \n",
    "    Sara has label 0\n",
    "    Chris has label 1\n",
    "\"\"\"\n",
    "\n",
    "import sys\n",
    "from time import time\n",
    "sys.path.append(\"C:/Users/Saisandeep/Documents/Udacity Data Analyst/Machine-Learning/ud120-projects/tools/\")\n",
    "from email_preprocess import preprocess\n",
    "\n",
    "\n",
    "### features_train and features_test are the features for the training\n",
    "### and testing datasets, respectively\n",
    "### labels_train and labels_test are the corresponding item labels\n",
    "features_train, features_test, labels_train, labels_test = \\\n",
    "preprocess(words_file = \"C:/Users/Saisandeep/Documents/Udacity Data Analyst/Machine-Learning/ud120-projects/tools\\\n",
    "/word_data.pkl\", authors_file = \"C:/Users/Saisandeep/Documents/Udacity Data Analyst/Machine-Learning/ud120-projects\\\n",
    "/tools/email_authors.pkl\")"
   ]
  },
  {
   "cell_type": "code",
   "execution_count": 15,
   "metadata": {},
   "outputs": [
    {
     "name": "stdout",
     "output_type": "stream",
     "text": [
      "training time: 0.125 s\n",
      "predicting time: 1.19 s\n",
      "0.616040955631\n"
     ]
    }
   ],
   "source": [
    "\n",
    "features_train = features_train[:len(features_train)/100] \n",
    "labels_train = labels_train[:len(labels_train)/100] \n",
    "\n",
    "x = features_train\n",
    "y = labels_train\n",
    "\n",
    "clf = svm.SVC(kernel = 'rbf')\n",
    "\n",
    "\n",
    "t0 = time()\n",
    "clf.fit(x,y)\n",
    "print \"training time:\", round(time()-t0, 3), \"s\"\n",
    "\n",
    "#Predict Output \n",
    "t1 = time()\n",
    "predicted= clf.predict(features_test)\n",
    "print \"predicting time:\", round(time()-t1, 3), \"s\"\n",
    "\n",
    "accuracy = float(sum(predicted == labels_test))/len(predicted)\n",
    "print accuracy\n"
   ]
  },
  {
   "cell_type": "code",
   "execution_count": 22,
   "metadata": {},
   "outputs": [
    {
     "name": "stdout",
     "output_type": "stream",
     "text": [
      "training time: 112.896 s\n",
      "predicting time: 11.28 s\n",
      "0.990898748578\n"
     ]
    }
   ],
   "source": [
    "x = features_train\n",
    "y = labels_train\n",
    "\n",
    "\n",
    "clf = svm.SVC(kernel = 'rbf', C = 10000)\n",
    "\n",
    "\n",
    "t0 = time()\n",
    "clf.fit(x,y)\n",
    "print \"training time:\", round(time()-t0, 3), \"s\"\n",
    "\n",
    "#Predict Output \n",
    "t1 = time()\n",
    "predicted= clf.predict(features_test)\n",
    "print \"predicting time:\", round(time()-t1, 3), \"s\"\n",
    "\n",
    "accuracy = float(sum(predicted == labels_test))/len(predicted)\n",
    "print accuracy\n"
   ]
  },
  {
   "cell_type": "code",
   "execution_count": 30,
   "metadata": {},
   "outputs": [
    {
     "data": {
      "text/plain": [
       "array([1, 0, 1])"
      ]
     },
     "execution_count": 30,
     "metadata": {},
     "output_type": "execute_result"
    }
   ],
   "source": [
    "clf.predict([features_test[10],features_test[26],features_test[50]])"
   ]
  },
  {
   "cell_type": "code",
   "execution_count": 31,
   "metadata": {},
   "outputs": [
    {
     "data": {
      "text/plain": [
       "877"
      ]
     },
     "execution_count": 31,
     "metadata": {},
     "output_type": "execute_result"
    }
   ],
   "source": [
    "sum(predicted)"
   ]
  },
  {
   "cell_type": "code",
   "execution_count": null,
   "metadata": {
    "collapsed": true
   },
   "outputs": [],
   "source": []
  }
 ],
 "metadata": {
  "kernelspec": {
   "display_name": "Python 2",
   "language": "python",
   "name": "python2"
  },
  "language_info": {
   "codemirror_mode": {
    "name": "ipython",
    "version": 2
   },
   "file_extension": ".py",
   "mimetype": "text/x-python",
   "name": "python",
   "nbconvert_exporter": "python",
   "pygments_lexer": "ipython2",
   "version": "2.7.14"
  }
 },
 "nbformat": 4,
 "nbformat_minor": 2
}
