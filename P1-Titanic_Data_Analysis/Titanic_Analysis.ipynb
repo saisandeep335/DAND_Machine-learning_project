{
 "cells": [
  {
   "cell_type": "code",
   "execution_count": 89,
   "metadata": {},
   "outputs": [
    {
     "data": {
      "text/html": [
       "<div>\n",
       "<style>\n",
       "    .dataframe thead tr:only-child th {\n",
       "        text-align: right;\n",
       "    }\n",
       "\n",
       "    .dataframe thead th {\n",
       "        text-align: left;\n",
       "    }\n",
       "\n",
       "    .dataframe tbody tr th {\n",
       "        vertical-align: top;\n",
       "    }\n",
       "</style>\n",
       "<table border=\"1\" class=\"dataframe\">\n",
       "  <thead>\n",
       "    <tr style=\"text-align: right;\">\n",
       "      <th></th>\n",
       "      <th>PassengerId</th>\n",
       "      <th>Survived</th>\n",
       "      <th>Pclass</th>\n",
       "      <th>Name</th>\n",
       "      <th>Sex</th>\n",
       "      <th>Age</th>\n",
       "      <th>SibSp</th>\n",
       "      <th>Parch</th>\n",
       "      <th>Ticket</th>\n",
       "      <th>Fare</th>\n",
       "      <th>Cabin</th>\n",
       "      <th>Embarked</th>\n",
       "    </tr>\n",
       "  </thead>\n",
       "  <tbody>\n",
       "    <tr>\n",
       "      <th>0</th>\n",
       "      <td>1.0</td>\n",
       "      <td>0.0</td>\n",
       "      <td>3.0</td>\n",
       "      <td>Braund, Mr. Owen Harris</td>\n",
       "      <td>male</td>\n",
       "      <td>22.0</td>\n",
       "      <td>1.0</td>\n",
       "      <td>0.0</td>\n",
       "      <td>A/5 21171</td>\n",
       "      <td>7.2500</td>\n",
       "      <td>NaN</td>\n",
       "      <td>S</td>\n",
       "    </tr>\n",
       "    <tr>\n",
       "      <th>1</th>\n",
       "      <td>2.0</td>\n",
       "      <td>1.0</td>\n",
       "      <td>1.0</td>\n",
       "      <td>Cumings, Mrs. John Bradley (Florence Briggs Th...</td>\n",
       "      <td>female</td>\n",
       "      <td>38.0</td>\n",
       "      <td>1.0</td>\n",
       "      <td>0.0</td>\n",
       "      <td>PC 17599</td>\n",
       "      <td>71.2833</td>\n",
       "      <td>C85</td>\n",
       "      <td>C</td>\n",
       "    </tr>\n",
       "    <tr>\n",
       "      <th>2</th>\n",
       "      <td>3.0</td>\n",
       "      <td>1.0</td>\n",
       "      <td>3.0</td>\n",
       "      <td>Heikkinen, Miss. Laina</td>\n",
       "      <td>female</td>\n",
       "      <td>26.0</td>\n",
       "      <td>0.0</td>\n",
       "      <td>0.0</td>\n",
       "      <td>STON/O2. 3101282</td>\n",
       "      <td>7.9250</td>\n",
       "      <td>NaN</td>\n",
       "      <td>S</td>\n",
       "    </tr>\n",
       "    <tr>\n",
       "      <th>3</th>\n",
       "      <td>4.0</td>\n",
       "      <td>1.0</td>\n",
       "      <td>1.0</td>\n",
       "      <td>Futrelle, Mrs. Jacques Heath (Lily May Peel)</td>\n",
       "      <td>female</td>\n",
       "      <td>35.0</td>\n",
       "      <td>1.0</td>\n",
       "      <td>0.0</td>\n",
       "      <td>113803</td>\n",
       "      <td>53.1000</td>\n",
       "      <td>C123</td>\n",
       "      <td>S</td>\n",
       "    </tr>\n",
       "    <tr>\n",
       "      <th>4</th>\n",
       "      <td>5.0</td>\n",
       "      <td>0.0</td>\n",
       "      <td>3.0</td>\n",
       "      <td>Allen, Mr. William Henry</td>\n",
       "      <td>male</td>\n",
       "      <td>35.0</td>\n",
       "      <td>0.0</td>\n",
       "      <td>0.0</td>\n",
       "      <td>373450</td>\n",
       "      <td>8.0500</td>\n",
       "      <td>NaN</td>\n",
       "      <td>S</td>\n",
       "    </tr>\n",
       "  </tbody>\n",
       "</table>\n",
       "</div>"
      ],
      "text/plain": [
       "   PassengerId  Survived  Pclass  \\\n",
       "0          1.0       0.0     3.0   \n",
       "1          2.0       1.0     1.0   \n",
       "2          3.0       1.0     3.0   \n",
       "3          4.0       1.0     1.0   \n",
       "4          5.0       0.0     3.0   \n",
       "\n",
       "                                                Name     Sex   Age  SibSp  \\\n",
       "0                            Braund, Mr. Owen Harris    male  22.0    1.0   \n",
       "1  Cumings, Mrs. John Bradley (Florence Briggs Th...  female  38.0    1.0   \n",
       "2                             Heikkinen, Miss. Laina  female  26.0    0.0   \n",
       "3       Futrelle, Mrs. Jacques Heath (Lily May Peel)  female  35.0    1.0   \n",
       "4                           Allen, Mr. William Henry    male  35.0    0.0   \n",
       "\n",
       "   Parch            Ticket     Fare Cabin Embarked  \n",
       "0    0.0         A/5 21171   7.2500   NaN        S  \n",
       "1    0.0          PC 17599  71.2833   C85        C  \n",
       "2    0.0  STON/O2. 3101282   7.9250   NaN        S  \n",
       "3    0.0            113803  53.1000  C123        S  \n",
       "4    0.0            373450   8.0500   NaN        S  "
      ]
     },
     "execution_count": 89,
     "metadata": {},
     "output_type": "execute_result"
    }
   ],
   "source": [
    "import numpy as np\n",
    "import pandas as pd\n",
    "import matplotlib.pyplot as plt\n",
    "import seaborn as sns\n",
    "\n",
    "%matplotlib inline\n",
    "\n",
    "filename = 'C:/Users/Saisandeep/Documents/Udacity Data Analyst/Titanic_Data_Analysis/Titanic_Data.csv'\n",
    "titanic_data = pd.read_csv(filename)\n",
    "\n",
    "titanic_data.head()"
   ]
  },
  {
   "cell_type": "markdown",
   "metadata": {},
   "source": [
    "The above sample of the data that shows all the columns in the data and top 5 records."
   ]
  },
  {
   "cell_type": "markdown",
   "metadata": {},
   "source": [
    "Data Dictionary\n",
    "\n",
    "Variable\tDefinition\tKey\n",
    "survival\tSurvival\t0 = No, 1 = Yes\n",
    "pclass\tTicket class\t1 = 1st, 2 = 2nd, 3 = 3rd\n",
    "sex\tSex\t\n",
    "Age\tAge in years\t\n",
    "sibsp\t# of siblings / spouses aboard the Titanic\t\n",
    "parch\t# of parents / children aboard the Titanic\t\n",
    "ticket\tTicket number\t\n",
    "fare\tPassenger fare\t\n",
    "cabin\tCabin number\t\n",
    "embarked\tPort of Embarkation\tC = Cherbourg, Q = Queenstown, S = Southampton\n",
    "Variable Notes\n",
    "\n",
    "pclass: A proxy for socio-economic status (SES)\n",
    "1st = Upper\n",
    "2nd = Middle\n",
    "3rd = Lower\n",
    "\n",
    "age: Age is fractional if less than 1. If the age is estimated, is it in the form of xx.5\n",
    "\n",
    "sibsp: The dataset defines family relations in this way...\n",
    "Sibling = brother, sister, stepbrother, stepsister\n",
    "Spouse = husband, wife (mistresses and fiancés were ignored)\n",
    "\n",
    "parch: The dataset defines family relations in this way...\n",
    "Parent = mother, father\n",
    "Child = daughter, son, stepdaughter, stepson\n",
    "Some children travelled only with a nanny, therefore parch=0 for them."
   ]
  },
  {
   "cell_type": "code",
   "execution_count": 90,
   "metadata": {
    "collapsed": true
   },
   "outputs": [],
   "source": [
    "titanic_data.drop('Name', 1, inplace = True )\n",
    "titanic_data.drop('Ticket', 1, inplace = True)"
   ]
  },
  {
   "cell_type": "markdown",
   "metadata": {},
   "source": [
    "The columns 'Name' and the 'Ticket' will not be helpful any sort of analaysis and we cannot perform any analysis based on these columns. So I have dropped these columns. Below is the details regarding the missing values in the rest of the columns. "
   ]
  },
  {
   "cell_type": "code",
   "execution_count": 91,
   "metadata": {},
   "outputs": [
    {
     "name": "stdout",
     "output_type": "stream",
     "text": [
      "<class 'pandas.core.frame.DataFrame'>\n",
      "RangeIndex: 893 entries, 0 to 892\n",
      "Data columns (total 10 columns):\n",
      "PassengerId    891 non-null float64\n",
      "Survived       891 non-null float64\n",
      "Pclass         891 non-null float64\n",
      "Sex            891 non-null object\n",
      "Age            714 non-null float64\n",
      "SibSp          891 non-null float64\n",
      "Parch          891 non-null float64\n",
      "Fare           891 non-null float64\n",
      "Cabin          204 non-null object\n",
      "Embarked       889 non-null object\n",
      "dtypes: float64(7), object(3)\n",
      "memory usage: 69.8+ KB\n"
     ]
    }
   ],
   "source": [
    "titanic_data.info()"
   ]
  },
  {
   "cell_type": "markdown",
   "metadata": {},
   "source": [
    "Above information shows that there are 891 records and we have null values in the columns 'Age', 'Cabin', 'Embarked'. In case of age and embarked there are enough record even if we drop the records which have null values. So my analysis with respect to Age and Embarked have null values excuded. In case of Cabin, there are many records with null values, but it doesn't make sense to take average of the available values to fill up the missing values. Missing values in categorical data needs to be handled in different way. As of now I am using Cabin data which is available and excluding the records which doesnt have cabin data when analyzing with respect to Cabin data. "
   ]
  },
  {
   "cell_type": "code",
   "execution_count": 92,
   "metadata": {},
   "outputs": [
    {
     "data": {
      "text/html": [
       "<div>\n",
       "<style>\n",
       "    .dataframe thead tr:only-child th {\n",
       "        text-align: right;\n",
       "    }\n",
       "\n",
       "    .dataframe thead th {\n",
       "        text-align: left;\n",
       "    }\n",
       "\n",
       "    .dataframe tbody tr th {\n",
       "        vertical-align: top;\n",
       "    }\n",
       "</style>\n",
       "<table border=\"1\" class=\"dataframe\">\n",
       "  <thead>\n",
       "    <tr style=\"text-align: right;\">\n",
       "      <th></th>\n",
       "      <th>PassengerId</th>\n",
       "      <th>Survived</th>\n",
       "      <th>Pclass</th>\n",
       "      <th>Age</th>\n",
       "      <th>SibSp</th>\n",
       "      <th>Parch</th>\n",
       "      <th>Fare</th>\n",
       "    </tr>\n",
       "  </thead>\n",
       "  <tbody>\n",
       "    <tr>\n",
       "      <th>count</th>\n",
       "      <td>891.000000</td>\n",
       "      <td>891.000000</td>\n",
       "      <td>891.000000</td>\n",
       "      <td>714.000000</td>\n",
       "      <td>891.000000</td>\n",
       "      <td>891.000000</td>\n",
       "      <td>891.000000</td>\n",
       "    </tr>\n",
       "    <tr>\n",
       "      <th>mean</th>\n",
       "      <td>446.000000</td>\n",
       "      <td>0.383838</td>\n",
       "      <td>2.308642</td>\n",
       "      <td>29.699118</td>\n",
       "      <td>0.523008</td>\n",
       "      <td>0.381594</td>\n",
       "      <td>32.204208</td>\n",
       "    </tr>\n",
       "    <tr>\n",
       "      <th>std</th>\n",
       "      <td>257.353842</td>\n",
       "      <td>0.486592</td>\n",
       "      <td>0.836071</td>\n",
       "      <td>14.526497</td>\n",
       "      <td>1.102743</td>\n",
       "      <td>0.806057</td>\n",
       "      <td>49.693429</td>\n",
       "    </tr>\n",
       "    <tr>\n",
       "      <th>min</th>\n",
       "      <td>1.000000</td>\n",
       "      <td>0.000000</td>\n",
       "      <td>1.000000</td>\n",
       "      <td>0.420000</td>\n",
       "      <td>0.000000</td>\n",
       "      <td>0.000000</td>\n",
       "      <td>0.000000</td>\n",
       "    </tr>\n",
       "    <tr>\n",
       "      <th>25%</th>\n",
       "      <td>223.500000</td>\n",
       "      <td>0.000000</td>\n",
       "      <td>2.000000</td>\n",
       "      <td>20.125000</td>\n",
       "      <td>0.000000</td>\n",
       "      <td>0.000000</td>\n",
       "      <td>7.910400</td>\n",
       "    </tr>\n",
       "    <tr>\n",
       "      <th>50%</th>\n",
       "      <td>446.000000</td>\n",
       "      <td>0.000000</td>\n",
       "      <td>3.000000</td>\n",
       "      <td>28.000000</td>\n",
       "      <td>0.000000</td>\n",
       "      <td>0.000000</td>\n",
       "      <td>14.454200</td>\n",
       "    </tr>\n",
       "    <tr>\n",
       "      <th>75%</th>\n",
       "      <td>668.500000</td>\n",
       "      <td>1.000000</td>\n",
       "      <td>3.000000</td>\n",
       "      <td>38.000000</td>\n",
       "      <td>1.000000</td>\n",
       "      <td>0.000000</td>\n",
       "      <td>31.000000</td>\n",
       "    </tr>\n",
       "    <tr>\n",
       "      <th>max</th>\n",
       "      <td>891.000000</td>\n",
       "      <td>1.000000</td>\n",
       "      <td>3.000000</td>\n",
       "      <td>80.000000</td>\n",
       "      <td>8.000000</td>\n",
       "      <td>6.000000</td>\n",
       "      <td>512.329200</td>\n",
       "    </tr>\n",
       "  </tbody>\n",
       "</table>\n",
       "</div>"
      ],
      "text/plain": [
       "       PassengerId    Survived      Pclass         Age       SibSp  \\\n",
       "count   891.000000  891.000000  891.000000  714.000000  891.000000   \n",
       "mean    446.000000    0.383838    2.308642   29.699118    0.523008   \n",
       "std     257.353842    0.486592    0.836071   14.526497    1.102743   \n",
       "min       1.000000    0.000000    1.000000    0.420000    0.000000   \n",
       "25%     223.500000    0.000000    2.000000   20.125000    0.000000   \n",
       "50%     446.000000    0.000000    3.000000   28.000000    0.000000   \n",
       "75%     668.500000    1.000000    3.000000   38.000000    1.000000   \n",
       "max     891.000000    1.000000    3.000000   80.000000    8.000000   \n",
       "\n",
       "            Parch        Fare  \n",
       "count  891.000000  891.000000  \n",
       "mean     0.381594   32.204208  \n",
       "std      0.806057   49.693429  \n",
       "min      0.000000    0.000000  \n",
       "25%      0.000000    7.910400  \n",
       "50%      0.000000   14.454200  \n",
       "75%      0.000000   31.000000  \n",
       "max      6.000000  512.329200  "
      ]
     },
     "execution_count": 92,
     "metadata": {},
     "output_type": "execute_result"
    }
   ],
   "source": [
    "titanic_data.describe()"
   ]
  },
  {
   "cell_type": "markdown",
   "metadata": {},
   "source": [
    "Seeing the data and the basic statistics I can say factors for survival can be based on 'Pclass', 'Sex', 'Age', 'SibSp', 'Parch', 'Embarked'. There could be reasons which can be based on multiple factors. I will start analyzing the data from each factor.\n",
    "\n",
    "First let us understand how many passengers survived in total and what are the chances of survival for any passengers. Below is the analysis for the Survived column"
   ]
  },
  {
   "cell_type": "code",
   "execution_count": 93,
   "metadata": {},
   "outputs": [
    {
     "name": "stdout",
     "output_type": "stream",
     "text": [
      "Number of people survived =  342\n",
      "Number of people died =  549\n",
      "Chance of survival =  0.383838383838\n"
     ]
    },
    {
     "data": {
      "image/png": "[encoded data removed]",
      "text/plain": [
       "<matplotlib.figure.Figure at 0x139d94a8>"
      ]
     },
     "metadata": {},
     "output_type": "display_data"
    }
   ],
   "source": [
    "survived_data = []\n",
    "for i in titanic_data['Survived']:\n",
    "    #print i\n",
    "    if i == 1.0:\n",
    "        survived_data.append('Yes')\n",
    "    else:\n",
    "        survived_data.append('No')      \n",
    "        \n",
    "survived_data = pd.Series(survived_data)\n",
    "#print survived_data\n",
    "survived_data.value_counts().plot(kind = 'bar')\n",
    "\n",
    "#titanic_data['Survived'].hist(bins = 3)\n",
    "plt.title('Plot of Survival')\n",
    "plt.xlabel('Survived')\n",
    "plt.ylabel('Count')\n",
    "\n",
    "survived_data =titanic_data[titanic_data.Survived == 1]\n",
    "not_survived_data = titanic_data[titanic_data.Survived == 0]\n",
    "\n",
    "print 'Number of people survived = ', len(survived_data)\n",
    "print 'Number of people died = ', len(not_survived_data)\n",
    "print 'Chance of survival = ', float(len(survived_data))/(len(survived_data)+len(not_survived_data))\n"
   ]
  },
  {
   "cell_type": "markdown",
   "metadata": {},
   "source": [
    "From the above information it is clear that chance of any person surviving is only 38.4%. There are 342 survivors out of 891 passengers which is summarized in the above plot as well. The graph displays the the number of survivors and the number of passengers who didnt  survive.\n"
   ]
  },
  {
   "cell_type": "code",
   "execution_count": 96,
   "metadata": {},
   "outputs": [
    {
     "data": {
      "text/html": [
       "<div>\n",
       "<style>\n",
       "    .dataframe thead tr:only-child th {\n",
       "        text-align: right;\n",
       "    }\n",
       "\n",
       "    .dataframe thead th {\n",
       "        text-align: left;\n",
       "    }\n",
       "\n",
       "    .dataframe tbody tr th {\n",
       "        vertical-align: top;\n",
       "    }\n",
       "</style>\n",
       "<table border=\"1\" class=\"dataframe\">\n",
       "  <thead>\n",
       "    <tr style=\"text-align: right;\">\n",
       "      <th></th>\n",
       "      <th>PassengerId</th>\n",
       "      <th>Survived</th>\n",
       "      <th>Pclass</th>\n",
       "      <th>Sex</th>\n",
       "      <th>Age</th>\n",
       "      <th>SibSp</th>\n",
       "      <th>Parch</th>\n",
       "      <th>Fare</th>\n",
       "      <th>Cabin</th>\n",
       "      <th>Embarked</th>\n",
       "      <th>Survived_data</th>\n",
       "    </tr>\n",
       "  </thead>\n",
       "  <tbody>\n",
       "    <tr>\n",
       "      <th>0</th>\n",
       "      <td>1.0</td>\n",
       "      <td>0.0</td>\n",
       "      <td>3.0</td>\n",
       "      <td>male</td>\n",
       "      <td>22.0</td>\n",
       "      <td>1.0</td>\n",
       "      <td>0.0</td>\n",
       "      <td>7.2500</td>\n",
       "      <td>NaN</td>\n",
       "      <td>S</td>\n",
       "      <td>No</td>\n",
       "    </tr>\n",
       "    <tr>\n",
       "      <th>1</th>\n",
       "      <td>2.0</td>\n",
       "      <td>1.0</td>\n",
       "      <td>1.0</td>\n",
       "      <td>female</td>\n",
       "      <td>38.0</td>\n",
       "      <td>1.0</td>\n",
       "      <td>0.0</td>\n",
       "      <td>71.2833</td>\n",
       "      <td>C85</td>\n",
       "      <td>C</td>\n",
       "      <td>Yes</td>\n",
       "    </tr>\n",
       "    <tr>\n",
       "      <th>2</th>\n",
       "      <td>3.0</td>\n",
       "      <td>1.0</td>\n",
       "      <td>3.0</td>\n",
       "      <td>female</td>\n",
       "      <td>26.0</td>\n",
       "      <td>0.0</td>\n",
       "      <td>0.0</td>\n",
       "      <td>7.9250</td>\n",
       "      <td>NaN</td>\n",
       "      <td>S</td>\n",
       "      <td>Yes</td>\n",
       "    </tr>\n",
       "    <tr>\n",
       "      <th>3</th>\n",
       "      <td>4.0</td>\n",
       "      <td>1.0</td>\n",
       "      <td>1.0</td>\n",
       "      <td>female</td>\n",
       "      <td>35.0</td>\n",
       "      <td>1.0</td>\n",
       "      <td>0.0</td>\n",
       "      <td>53.1000</td>\n",
       "      <td>C123</td>\n",
       "      <td>S</td>\n",
       "      <td>Yes</td>\n",
       "    </tr>\n",
       "    <tr>\n",
       "      <th>4</th>\n",
       "      <td>5.0</td>\n",
       "      <td>0.0</td>\n",
       "      <td>3.0</td>\n",
       "      <td>male</td>\n",
       "      <td>35.0</td>\n",
       "      <td>0.0</td>\n",
       "      <td>0.0</td>\n",
       "      <td>8.0500</td>\n",
       "      <td>NaN</td>\n",
       "      <td>S</td>\n",
       "      <td>No</td>\n",
       "    </tr>\n",
       "  </tbody>\n",
       "</table>\n",
       "</div>"
      ],
      "text/plain": [
       "   PassengerId  Survived  Pclass     Sex   Age  SibSp  Parch     Fare Cabin  \\\n",
       "0          1.0       0.0     3.0    male  22.0    1.0    0.0   7.2500   NaN   \n",
       "1          2.0       1.0     1.0  female  38.0    1.0    0.0  71.2833   C85   \n",
       "2          3.0       1.0     3.0  female  26.0    0.0    0.0   7.9250   NaN   \n",
       "3          4.0       1.0     1.0  female  35.0    1.0    0.0  53.1000  C123   \n",
       "4          5.0       0.0     3.0    male  35.0    0.0    0.0   8.0500   NaN   \n",
       "\n",
       "  Embarked Survived_data  \n",
       "0        S            No  \n",
       "1        C           Yes  \n",
       "2        S           Yes  \n",
       "3        S           Yes  \n",
       "4        S            No  "
      ]
     },
     "execution_count": 96,
     "metadata": {},
     "output_type": "execute_result"
    }
   ],
   "source": [
    "def survived_data(a):\n",
    "    if a.Survived == 1:\n",
    "        a['Survived_data'] = 'Yes'\n",
    "    else:\n",
    "        a['Survived_data'] = 'No'\n",
    "    return a\n",
    "\n",
    "titanic_data = titanic_data.apply(survived_data, axis = 1)\n",
    "titanic_data.head()"
   ]
  },
  {
   "cell_type": "markdown",
   "metadata": {},
   "source": [
    "With the above function I have added a column which gives out the informaiton of the Survival as \"Yes\" or \"No\" this helps in the graphs to get the appropriate ticks on the graphs.\n",
    "\n",
    "I will be analyzing the gender mix in the passengers and how many \"Males\" and \"Females\" were on board. "
   ]
  },
  {
   "cell_type": "code",
   "execution_count": 97,
   "metadata": {},
   "outputs": [
    {
     "name": "stdout",
     "output_type": "stream",
     "text": [
      "Number of Male Passengers = 577\n",
      "Number of Female Passengers =  314\n"
     ]
    },
    {
     "data": {
      "text/plain": [
       "<matplotlib.text.Text at 0x158be470>"
      ]
     },
     "execution_count": 97,
     "metadata": {},
     "output_type": "execute_result"
    },
    {
     "data": {
      "image/png": "[encoded data removed]",
      "text/plain": [
       "<matplotlib.figure.Figure at 0x1298e710>"
      ]
     },
     "metadata": {},
     "output_type": "display_data"
    }
   ],
   "source": [
    "male_data = titanic_data[titanic_data.Sex == 'male']\n",
    "female_data = titanic_data[titanic_data.Sex == 'female']\n",
    "\n",
    "print 'Number of Male Passengers =', len(male_data)\n",
    "print 'Number of Female Passengers = ', len(female_data)\n",
    "\n",
    "titanic_data.Sex.value_counts().plot(kind = 'bar')\n",
    "plt.title('Distribution of Sex')\n",
    "plt.xlabel('Gender')\n",
    "plt.ylabel('Count')\n"
   ]
  },
  {
   "cell_type": "code",
   "execution_count": 99,
   "metadata": {},
   "outputs": [
    {
     "name": "stdout",
     "output_type": "stream",
     "text": [
      "Number of Male Passengers Survived =  109\n",
      "Chance of Male Passenger Survival =  0.188908145581\n",
      "Number of Female Passengers Survived =  233\n",
      "Chance of Female Passenger Survival =  0.742038216561\n"
     ]
    },
    {
     "data": {
      "text/plain": [
       "<matplotlib.text.Text at 0x15c5e668>"
      ]
     },
     "execution_count": 99,
     "metadata": {},
     "output_type": "execute_result"
    },
    {
     "data": {
      "image/png": "[encoded data removed]",
      "text/plain": [
       "<matplotlib.figure.Figure at 0x158be940>"
      ]
     },
     "metadata": {},
     "output_type": "display_data"
    }
   ],
   "source": [
    "print 'Number of Male Passengers Survived = ', len(male_data[male_data.Survived == 1])\n",
    "print 'Chance of Male Passenger Survival = ', float(len(male_data[male_data.Survived == 1]))/len(male_data)\n",
    "print 'Number of Female Passengers Survived = ', len(female_data[female_data.Survived == 1])\n",
    "print 'Chance of Female Passenger Survival = ', float(len(female_data[female_data.Survived == 1]))/len(female_data)\n",
    "\n",
    "sns.factorplot('Survived_data', hue='Sex', data= titanic_data, kind='count', legend = True )\n",
    "plt.title('Distribution of Survival for Male and Female')\n",
    "\n"
   ]
  },
  {
   "cell_type": "markdown",
   "metadata": {},
   "source": [
    "The above plot and analysis shows the number of survivors from Male and Female passengers. Also I have calculated the chances of survival for male and female passengers. Below is the plot which displays the comparision."
   ]
  },
  {
   "cell_type": "code",
   "execution_count": 100,
   "metadata": {},
   "outputs": [
    {
     "data": {
      "text/plain": [
       "<matplotlib.text.Text at 0x15e87e80>"
      ]
     },
     "execution_count": 100,
     "metadata": {},
     "output_type": "execute_result"
    },
    {
     "data": {
      "image/png": "[encoded data removed]",
      "text/plain": [
       "<matplotlib.figure.Figure at 0x15a422e8>"
      ]
     },
     "metadata": {},
     "output_type": "display_data"
    }
   ],
   "source": [
    "sns.factorplot(y = 'Survived', x= 'Sex', data= titanic_data, kind='bar', legend = True )\n",
    "plt.title('Chance of Survival for Male and Female')"
   ]
  },
  {
   "cell_type": "markdown",
   "metadata": {},
   "source": [
    "From the above analysis it is clear that there is a high chance for Female passengers to survive when compared to Male passengers.\n",
    "\n",
    "Now I will analyze the Age column and the chances of survival with respect to age."
   ]
  },
  {
   "cell_type": "code",
   "execution_count": 101,
   "metadata": {},
   "outputs": [
    {
     "name": "stdout",
     "output_type": "stream",
     "text": [
      "0.42\n",
      "80.0\n"
     ]
    }
   ],
   "source": [
    "print titanic_data['Age'].min()\n",
    "print titanic_data['Age'].max()"
   ]
  },
  {
   "cell_type": "code",
   "execution_count": 102,
   "metadata": {},
   "outputs": [
    {
     "data": {
      "text/plain": [
       "<matplotlib.text.Text at 0x160bf710>"
      ]
     },
     "execution_count": 102,
     "metadata": {},
     "output_type": "execute_result"
    },
    {
     "data": {
      "image/png": "[encoded data removed]",
      "text/plain": [
       "<matplotlib.figure.Figure at 0x15e50d68>"
      ]
     },
     "metadata": {},
     "output_type": "display_data"
    }
   ],
   "source": [
    "titanic_data['Age'].dropna().hist(bins =80)\n",
    "plt.title('Distribution of Age')\n",
    "plt.xlabel('Age')\n",
    "plt.ylabel('Count')\n"
   ]
  },
  {
   "cell_type": "markdown",
   "metadata": {},
   "source": [
    "From the analysis I figured out that the age of the youngest passenger is less than an year and oldest passenger is 80 years old. So I decided to club all the passengers whose age is less than one into one bin and rest all ages in to one bin each in the above graph. The above graph gives out the information of age and number of passengers at each age.\n",
    "\n",
    "Now I would like to analyze if age has any significant effect on the chances of survival. Below is the plot that shows total passengers and passengers that survived at each age group."
   ]
  },
  {
   "cell_type": "code",
   "execution_count": 103,
   "metadata": {},
   "outputs": [
    {
     "data": {
      "text/plain": [
       "<matplotlib.text.Text at 0x15e871d0>"
      ]
     },
     "execution_count": 103,
     "metadata": {},
     "output_type": "execute_result"
    },
    {
     "data": {
      "image/png": "[encoded data removed]",
      "text/plain": [
       "<matplotlib.figure.Figure at 0x1500ce10>"
      ]
     },
     "metadata": {},
     "output_type": "display_data"
    }
   ],
   "source": [
    "titanic_data['Age'].dropna().hist(bins =16)\n",
    "titanic_data[titanic_data.Survived == 1].Age.dropna().hist(bins = 16, stacked = True)\n",
    "plt.title('Distribution of Survived over distribution of Age')\n",
    "plt.xlabel('Age')\n",
    "plt.ylabel('Count')\n",
    "plt.text(40,100,'Blue: Age Distribution \\nGreen: Age distribution of survived')"
   ]
  },
  {
   "cell_type": "markdown",
   "metadata": {},
   "source": [
    "I have plotted the above graph with ages of passengers grouped for every 5 years. From the above graph it is clear that the chances of survival for the age less than 15 is more when compared to the other age groups. I would alos like to look at this distribution sith a smooth curved like to confirm my analysis. So below is the graph that shows a curved distribution for survivors and non-survivors."
   ]
  },
  {
   "cell_type": "code",
   "execution_count": 105,
   "metadata": {},
   "outputs": [
    {
     "data": {
      "text/plain": [
       "<matplotlib.text.Text at 0x13ba3710>"
      ]
     },
     "execution_count": 105,
     "metadata": {},
     "output_type": "execute_result"
    },
    {
     "data": {
      "image/png": "[encoded data removed]",
      "text/plain": [
       "<matplotlib.figure.Figure at 0x139e8c50>"
      ]
     },
     "metadata": {},
     "output_type": "display_data"
    }
   ],
   "source": [
    "sns.factorplot( 'Survived_data','Age',hue = 'Sex', data = titanic_data, kind = 'violin')\n",
    "plt.title('Distribution of Age with respect to Survival and Sex')"
   ]
  },
  {
   "cell_type": "markdown",
   "metadata": {},
   "source": [
    "I can certainly see a bimodal graphin case of survivors. There is a small bump at the lower ages. From the above two graphs looks like the chance of survival increases with age being low. That is chance of survival of children is slightly more. Age of children less than 15 seems to have more chance of survival. \n",
    "\n",
    "Below is the analysis for the chances of survival based on age and sex. I would like to categorize the passengers as \"Male\", \"Female\" and \"Child\" and look at the chances of survival for each category."
   ]
  },
  {
   "cell_type": "code",
   "execution_count": 136,
   "metadata": {},
   "outputs": [
    {
     "name": "stdout",
     "output_type": "stream",
     "text": [
      "   PassengerId  Survived  Pclass     Sex   Age  SibSp  Parch     Fare Cabin  \\\n",
      "0          1.0       0.0     3.0    male  22.0    1.0    0.0   7.2500   NaN   \n",
      "1          2.0       1.0     1.0  female  38.0    1.0    0.0  71.2833   C85   \n",
      "2          3.0       1.0     3.0  female  26.0    0.0    0.0   7.9250   NaN   \n",
      "3          4.0       1.0     1.0  female  35.0    1.0    0.0  53.1000  C123   \n",
      "4          5.0       0.0     3.0    male  35.0    0.0    0.0   8.0500   NaN   \n",
      "\n",
      "  Embarked Survived_data category  \n",
      "0        S            No     male  \n",
      "1        C           Yes   female  \n",
      "2        S           Yes   female  \n",
      "3        S           Yes   female  \n",
      "4        S            No     male  \n"
     ]
    }
   ],
   "source": [
    "def pass_type(a):\n",
    "    if a.Age < 15:\n",
    "        a['category'] = 'child'\n",
    "    else:\n",
    "        a['category'] = a.Sex\n",
    "    return a\n",
    "\n",
    "titanic_data_cat = titanic_data.apply(pass_type, axis = 1)\n",
    "print titanic_data_cat.head()"
   ]
  },
  {
   "cell_type": "code",
   "execution_count": 108,
   "metadata": {},
   "outputs": [
    {
     "name": "stdout",
     "output_type": "stream",
     "text": [
      "Number of Male passengers =  538\n",
      "Number of Female passengers =  275\n",
      "Number of Child passengers =  78\n"
     ]
    },
    {
     "data": {
      "text/plain": [
       "<seaborn.axisgrid.FacetGrid at 0x136e2ba8>"
      ]
     },
     "execution_count": 108,
     "metadata": {},
     "output_type": "execute_result"
    },
    {
     "data": {
      "image/png": "[encoded data removed]",
      "text/plain": [
       "<matplotlib.figure.Figure at 0xea421d0>"
      ]
     },
     "metadata": {},
     "output_type": "display_data"
    }
   ],
   "source": [
    "data_cat_male = titanic_data_cat[titanic_data_cat.category == 'male']\n",
    "data_cat_female = titanic_data_cat[titanic_data_cat.category == 'female']\n",
    "data_cat_child = titanic_data_cat[titanic_data_cat.category == 'child']\n",
    "\n",
    "print 'Number of Male passengers = ', len(data_cat_male)\n",
    "print 'Number of Female passengers = ', len(data_cat_female)\n",
    "print 'Number of Child passengers = ', len(data_cat_child)\n",
    "\n",
    "\n",
    "sns.factorplot(x='category', y = 'Age', hue='Survived_data', data= titanic_data_cat, kind='violin', \\\n",
    "               ci = None, legend = True, aspect = 1.5)"
   ]
  },
  {
   "cell_type": "markdown",
   "metadata": {},
   "source": [
    "The above analysis shows the number of passengers from different categories. Also the graph shows the survivors and non-survivors distribution for each categoty against age. Now the graph looks smoother for each category"
   ]
  },
  {
   "cell_type": "code",
   "execution_count": 109,
   "metadata": {},
   "outputs": [
    {
     "name": "stdout",
     "output_type": "stream",
     "text": [
      "Number of Male passengers survived =  88\n",
      "Number of Female passengers survived =  209\n",
      "Number of Child passengers survived =  45\n"
     ]
    },
    {
     "data": {
      "text/plain": [
       "<matplotlib.text.Text at 0x149dccf8>"
      ]
     },
     "execution_count": 109,
     "metadata": {},
     "output_type": "execute_result"
    },
    {
     "data": {
      "image/png": "[encoded data removed]",
      "text/plain": [
       "<matplotlib.figure.Figure at 0x14346e80>"
      ]
     },
     "metadata": {},
     "output_type": "display_data"
    }
   ],
   "source": [
    "print 'Number of Male passengers survived = ', len(data_cat_male[data_cat_male.Survived == 1])\n",
    "print 'Number of Female passengers survived = ', len(data_cat_female[data_cat_female.Survived == 1])\n",
    "print 'Number of Child passengers survived = ', len(data_cat_child[data_cat_child.Survived == 1])\n",
    "\n",
    "sns.factorplot(x='category', hue='Survived_data', data= titanic_data_cat, kind='count', \\\n",
    "               ci = None, legend = True, aspect = 1.5)\n",
    "plt.title('Distribution of Survival based on Category')"
   ]
  },
  {
   "cell_type": "markdown",
   "metadata": {},
   "source": [
    "The above analysis shows the number of passengers survived from each category and the plot shows the comparision of the same between all the three categories. Based on these numbers below is the anlaysis of chances of survival for each category."
   ]
  },
  {
   "cell_type": "code",
   "execution_count": 110,
   "metadata": {},
   "outputs": [
    {
     "name": "stdout",
     "output_type": "stream",
     "text": [
      "Chance of Male passengers survival =  0.163568773234\n",
      "Chance of Female passengers survival =  0.76\n",
      "Chance of Child passengers survival =  0.576923076923\n"
     ]
    },
    {
     "data": {
      "text/plain": [
       "<matplotlib.text.Text at 0x144d8a90>"
      ]
     },
     "execution_count": 110,
     "metadata": {},
     "output_type": "execute_result"
    },
    {
     "data": {
      "image/png": "[encoded data removed]",
      "text/plain": [
       "<matplotlib.figure.Figure at 0x126fef98>"
      ]
     },
     "metadata": {},
     "output_type": "display_data"
    }
   ],
   "source": [
    "print 'Chance of Male passengers survival = ', float(len(data_cat_male[data_cat_male.Survived == 1]))/len(data_cat_male)\n",
    "print 'Chance of Female passengers survival = ', float(len(data_cat_female[data_cat_female.Survived == 1]))/len(data_cat_female)\n",
    "print 'Chance of Child passengers survival = ', float(len(data_cat_child[data_cat_child.Survived == 1]))/len(data_cat_child)\n",
    "\n",
    "sns.factorplot(x='category', y='Survived', data= titanic_data_cat, kind='bar',  ci = None, legend = True, aspect = 1)\n",
    "plt.ylabel('Survived Probability')\n"
   ]
  },
  {
   "cell_type": "markdown",
   "metadata": {},
   "source": [
    "From the above analysis and plot we can see that Female and Child passengers have a greater chance of survival.\n",
    "\n",
    "I would like to analyze the passenger class and the chances of survival with respect to the same."
   ]
  },
  {
   "cell_type": "code",
   "execution_count": 140,
   "metadata": {},
   "outputs": [
    {
     "name": "stdout",
     "output_type": "stream",
     "text": [
      "Number of passengers in the 1st Class = 216\n",
      "Number of passengers in the 2nd Class = 184\n",
      "Number of passengers in the 3rd Class = 491\n"
     ]
    },
    {
     "data": {
      "text/plain": [
       "<matplotlib.text.Text at 0x1e4bb780>"
      ]
     },
     "execution_count": 140,
     "metadata": {},
     "output_type": "execute_result"
    },
    {
     "data": {
      "image/png": "[encoded data removed]",
      "text/plain": [
       "<matplotlib.figure.Figure at 0x1b00ada0>"
      ]
     },
     "metadata": {},
     "output_type": "display_data"
    }
   ],
   "source": [
    "data_1st = titanic_data_cat[titanic_data_cat.Pclass==1]\n",
    "data_2nd = titanic_data_cat[titanic_data_cat.Pclass==2]\n",
    "data_3rd = titanic_data_cat[titanic_data_cat.Pclass==3]\n",
    "\n",
    "print 'Number of passengers in the 1st Class =', len(data_1st)\n",
    "print 'Number of passengers in the 2nd Class =', len(data_2nd)\n",
    "print 'Number of passengers in the 3rd Class =', len(data_3rd)\n",
    "\n",
    "#titanic_data['Pclass'].hist(bins = 5)\n",
    "titanic_data['Pclass'].value_counts().plot(kind = 'bar')\n",
    "plt.title('Distribution of Passenger Classes')\n",
    "plt.xlabel('Pclass')\n",
    "plt.ylabel('Count')\n"
   ]
  },
  {
   "cell_type": "markdown",
   "metadata": {},
   "source": [
    "The above plot shows the number of passengers in each class. Below is the analysis for the number of passengers survived from each class and the chances of survival for the passengers from each class."
   ]
  },
  {
   "cell_type": "code",
   "execution_count": 112,
   "metadata": {},
   "outputs": [
    {
     "name": "stdout",
     "output_type": "stream",
     "text": [
      "Number of 1st class passengers survived =  136\n",
      "Number of 2nd class passengers survived =  87\n",
      "Number of 3rd class passengers survived =  119\n",
      "Chance of survival for 1st class passenger =  0.62962962963\n",
      "Chance of survival for 2nd class passenger =  0.472826086957\n",
      "Chance of survival for 3rd class passenger =  0.242362525458\n"
     ]
    }
   ],
   "source": [
    "print 'Number of 1st class passengers survived = ', len(data_1st[data_1st.Survived == 1])\n",
    "print 'Number of 2nd class passengers survived = ', len(data_2nd[data_2nd.Survived == 1])\n",
    "print 'Number of 3rd class passengers survived = ', len(data_3rd[data_3rd.Survived == 1])\n",
    "\n",
    "print 'Chance of survival for 1st class passenger = ', float(len(data_1st[data_1st.Survived == 1]))/len(data_1st)\n",
    "print 'Chance of survival for 2nd class passenger = ', float(len(data_2nd[data_2nd.Survived == 1]))/len(data_2nd)\n",
    "print 'Chance of survival for 3rd class passenger = ', float(len(data_3rd[data_3rd.Survived == 1]))/len(data_3rd)\n"
   ]
  },
  {
   "cell_type": "code",
   "execution_count": 113,
   "metadata": {},
   "outputs": [
    {
     "data": {
      "text/plain": [
       "<matplotlib.text.Text at 0x14e1c470>"
      ]
     },
     "execution_count": 113,
     "metadata": {},
     "output_type": "execute_result"
    },
    {
     "data": {
      "image/png": "[encoded data removed]",
      "text/plain": [
       "<matplotlib.figure.Figure at 0x14252f28>"
      ]
     },
     "metadata": {},
     "output_type": "display_data"
    }
   ],
   "source": [
    "sns.factorplot(x='Pclass', y = 'Survived', data= titanic_data_cat, kind='bar',  ci = None, legend = True, aspect = 1.0 )\n",
    "plt.title('Plot of Chances of survival for different Pclass')\n",
    "plt.ylabel('Survived Probability')\n"
   ]
  },
  {
   "cell_type": "markdown",
   "metadata": {},
   "source": [
    "From the above analysis it looks there is signigicantly higher chance for the 1st and 2nd class compard to the 3rd class. For further analysis I will analyze the categories and their survival chances with in each class."
   ]
  },
  {
   "cell_type": "code",
   "execution_count": 114,
   "metadata": {},
   "outputs": [
    {
     "data": {
      "text/plain": [
       "<matplotlib.text.Text at 0x1669e160>"
      ]
     },
     "execution_count": 114,
     "metadata": {},
     "output_type": "execute_result"
    },
    {
     "data": {
      "image/png": "[encoded data removed]",
      "text/plain": [
       "<matplotlib.figure.Figure at 0xefab390>"
      ]
     },
     "metadata": {},
     "output_type": "display_data"
    }
   ],
   "source": [
    "data_1st_male = data_1st[data_1st.category == 'male']\n",
    "data_1st_female = data_1st[data_1st.category == 'female']\n",
    "data_1st_child = data_1st[data_1st.category == 'child']\n",
    "data_2nd_male = data_2nd[data_2nd.category == 'male']\n",
    "data_2nd_female = data_2nd[data_2nd.category == 'female']\n",
    "data_2nd_child = data_2nd[data_2nd.category == 'child']\n",
    "data_3rd_male = data_3rd[data_3rd.category == 'male']\n",
    "data_3rd_female = data_3rd[data_3rd.category == 'female']\n",
    "data_3rd_child = data_3rd[data_3rd.category == 'child']\n",
    "\n",
    "sns.factorplot(x='Pclass', hue = 'category', data= titanic_data_cat, kind='count',  ci = None, legend = True, aspect = 1.0 )\n",
    "plt.title(\"Distribution of passengers with respect to Pclass and Category\")"
   ]
  },
  {
   "cell_type": "markdown",
   "metadata": {},
   "source": [
    "Above plot shows the number of passengers from each class and category. I would like to analyze the chances of survival for each of the group of passengers. Below is the analysis for the same."
   ]
  },
  {
   "cell_type": "code",
   "execution_count": 115,
   "metadata": {},
   "outputs": [
    {
     "name": "stdout",
     "output_type": "stream",
     "text": [
      "Chance of survival for Male 1st class Passenger = 0.352941176471\n",
      "Chance of survival for Female 1st class Passenger = 0.978260869565\n",
      "Chance of survival for Child 1st class Passenger = 0.8\n",
      "Chance of survival for Male 2nd class Passenger = 0.0808080808081\n",
      "Chance of survival for FeMale 2nd class Passenger = 0.909090909091\n",
      "Chance of survival for Child 2nd class Passenger = 1.0\n",
      "Chance of survival for Male 3rd class Passenger = 0.11875\n",
      "Chance of survival for Female 3rd class Passenger = 0.504273504274\n",
      "Chance of survival for Child 3rd class Passenger = 0.407407407407\n"
     ]
    }
   ],
   "source": [
    "print 'Chance of survival for Male 1st class Passenger =', float(len(data_1st_male[data_1st_male.Survived == 1]))/len(data_1st_male)\n",
    "print 'Chance of survival for Female 1st class Passenger =', float(len(data_1st_female[data_1st_female.Survived == 1]))/len(data_1st_female)\n",
    "print 'Chance of survival for Child 1st class Passenger =', float(len(data_1st_child[data_1st_child.Survived == 1]))/len(data_1st_child)\n",
    "print 'Chance of survival for Male 2nd class Passenger =', float(len(data_2nd_male[data_2nd_male.Survived == 1]))/len(data_2nd_male)\n",
    "print 'Chance of survival for FeMale 2nd class Passenger =', float(len(data_2nd_female[data_2nd_female.Survived == 1]))/len(data_2nd_female)\n",
    "print 'Chance of survival for Child 2nd class Passenger =', float(len(data_2nd_child[data_2nd_child.Survived == 1]))/len(data_2nd_child)\n",
    "print 'Chance of survival for Male 3rd class Passenger =', float(len(data_3rd_male[data_3rd_male.Survived == 1]))/len(data_3rd_male)\n",
    "print 'Chance of survival for Female 3rd class Passenger =', float(len(data_3rd_female[data_3rd_female.Survived == 1]))/len(data_3rd_female)\n",
    "print 'Chance of survival for Child 3rd class Passenger =', float(len(data_3rd_child[data_3rd_child.Survived == 1]))/len(data_3rd_child)\n"
   ]
  },
  {
   "cell_type": "markdown",
   "metadata": {},
   "source": [
    "We can see the chances of survival for each group of passengers based on Pclass and Category. I would like to plot the same for a better comparsion. Below is the plot of the chances of survival for each group of passengers."
   ]
  },
  {
   "cell_type": "code",
   "execution_count": 116,
   "metadata": {},
   "outputs": [
    {
     "data": {
      "text/plain": [
       "<matplotlib.text.Text at 0x14dceb70>"
      ]
     },
     "execution_count": 116,
     "metadata": {},
     "output_type": "execute_result"
    },
    {
     "data": {
      "image/png": "[encoded data removed]",
      "text/plain": [
       "<matplotlib.figure.Figure at 0x162d7f28>"
      ]
     },
     "metadata": {},
     "output_type": "display_data"
    }
   ],
   "source": [
    "sns.factorplot(x='Pclass', y = 'Survived', hue='category', data= titanic_data_cat, kind='bar',  ci = None, legend = True, aspect = 1.0 )\n",
    "plt.title('Chances of survival wrt Passenger class and category')\n",
    "plt.ylabel('Survived Probability')\n"
   ]
  },
  {
   "cell_type": "markdown",
   "metadata": {},
   "source": [
    "Above analysis shows the difference in the chances of survival for different classes and categories of the passengers. There is a clear higher chance of survival for females and children in the 1st and 2nd class passengers. Male first class passengers seems to have more chance of survival compared to male passengers from other classes.\n",
    "\n",
    "Now I would like to analyze the Siblings and the Parents columns. Also understand the chances of survival based on these factors."
   ]
  },
  {
   "cell_type": "code",
   "execution_count": 117,
   "metadata": {},
   "outputs": [
    {
     "data": {
      "text/plain": [
       "<matplotlib.text.Text at 0x12b34cc0>"
      ]
     },
     "execution_count": 117,
     "metadata": {},
     "output_type": "execute_result"
    },
    {
     "data": {
      "image/png": "[encoded data removed]",
      "text/plain": [
       "<matplotlib.figure.Figure at 0x143365f8>"
      ]
     },
     "metadata": {},
     "output_type": "display_data"
    }
   ],
   "source": [
    "titanic_data['SibSp'].hist()\n",
    "plt.title('Distribution of SibSp')\n",
    "plt.xlabel('SibSp')\n",
    "plt.ylabel('Count')\n"
   ]
  },
  {
   "cell_type": "markdown",
   "metadata": {},
   "source": [
    "From the above graph looks like maximum passengers were not travelling with any siblings on board. "
   ]
  },
  {
   "cell_type": "code",
   "execution_count": 118,
   "metadata": {},
   "outputs": [
    {
     "data": {
      "text/plain": [
       "<matplotlib.text.Text at 0x12aa30f0>"
      ]
     },
     "execution_count": 118,
     "metadata": {},
     "output_type": "execute_result"
    },
    {
     "data": {
      "image/png": "[encoded data removed]",
      "text/plain": [
       "<matplotlib.figure.Figure at 0x16b98710>"
      ]
     },
     "metadata": {},
     "output_type": "display_data"
    }
   ],
   "source": [
    "titanic_data['Parch'].hist()\n",
    "plt.title('Distribution of Parch')\n",
    "plt.xlabel('Parch')\n",
    "plt.ylabel('Count')\n"
   ]
  },
  {
   "cell_type": "markdown",
   "metadata": {},
   "source": [
    "Above graph shows the number of passengers travelling with their parents and grand parents. Looks like there are not many passengers in this group as well. So I would like to see survival chances with respect each of these data."
   ]
  },
  {
   "cell_type": "code",
   "execution_count": 119,
   "metadata": {},
   "outputs": [
    {
     "data": {
      "text/plain": [
       "<matplotlib.text.Text at 0x16b75978>"
      ]
     },
     "execution_count": 119,
     "metadata": {},
     "output_type": "execute_result"
    },
    {
     "data": {
      "image/png": "[encoded data removed]",
      "text/plain": [
       "<matplotlib.figure.Figure at 0x1298e240>"
      ]
     },
     "metadata": {},
     "output_type": "display_data"
    }
   ],
   "source": [
    "sns.factorplot('Parch', 'Survived',data = titanic_data_cat, kind = 'bar')\n",
    "plt.ylabel('Survived Probability')\n"
   ]
  },
  {
   "cell_type": "code",
   "execution_count": 120,
   "metadata": {},
   "outputs": [
    {
     "data": {
      "text/plain": [
       "<matplotlib.text.Text at 0x170a7cc0>"
      ]
     },
     "execution_count": 120,
     "metadata": {},
     "output_type": "execute_result"
    },
    {
     "data": {
      "image/png": "[encoded data removed]",
      "text/plain": [
       "<matplotlib.figure.Figure at 0x16cbe320>"
      ]
     },
     "metadata": {},
     "output_type": "display_data"
    }
   ],
   "source": [
    "sns.factorplot('SibSp', 'Survived',data = titanic_data_cat, kind = 'bar')\n",
    "plt.ylabel('Survived Probability')\n"
   ]
  },
  {
   "cell_type": "markdown",
   "metadata": {},
   "source": [
    "I dont see really significant difference in chance of survival each of the above graphs. So I would like to combine these two information into one column and call it family. Below is the analysis based on the passengers travelling with Family and chances of survival for these passengers."
   ]
  },
  {
   "cell_type": "code",
   "execution_count": 121,
   "metadata": {},
   "outputs": [
    {
     "name": "stdout",
     "output_type": "stream",
     "text": [
      "Number of passengers with family =  356\n",
      "Number of passengers without family =  537\n",
      "Number of passengers with family Survived =  179\n",
      "Number of passengers without family Survived =  163\n",
      "Chance of Survival with Family =  0.502808988764\n",
      "Chance of Survival without Family =  0.303538175047\n"
     ]
    }
   ],
   "source": [
    "data_no_family = titanic_data_cat[((titanic_data_cat.Parch == 0.0) & (titanic_data_cat.SibSp == 0.0))]\n",
    "data_with_family = titanic_data_cat[((titanic_data_cat.Parch != 0.0) | (titanic_data_cat.SibSp != 0.0))]\n",
    "\n",
    "print 'Number of passengers with family = ', len(data_with_family)\n",
    "print 'Number of passengers without family = ', len(data_no_family)\n",
    "print 'Number of passengers with family Survived = ', len(data_with_family[data_with_family.Survived ==1])\n",
    "print 'Number of passengers without family Survived = ', len(data_no_family[data_no_family.Survived ==1])\n",
    "print 'Chance of Survival with Family = ', float(len(data_with_family[data_with_family.Survived ==1]))/len(data_with_family)\n",
    "print 'Chance of Survival without Family = ', float(len(data_no_family[data_no_family.Survived ==1]))/len(data_no_family)"
   ]
  },
  {
   "cell_type": "markdown",
   "metadata": {},
   "source": [
    "Below function would add a column called Family to the data and we can do further analysis based on the same."
   ]
  },
  {
   "cell_type": "code",
   "execution_count": 122,
   "metadata": {},
   "outputs": [
    {
     "name": "stdout",
     "output_type": "stream",
     "text": [
      "   PassengerId  Survived  Pclass     Sex   Age  SibSp  Parch     Fare Cabin  \\\n",
      "0          1.0       0.0     3.0    male  22.0    1.0    0.0   7.2500   NaN   \n",
      "1          2.0       1.0     1.0  female  38.0    1.0    0.0  71.2833   C85   \n",
      "2          3.0       1.0     3.0  female  26.0    0.0    0.0   7.9250   NaN   \n",
      "3          4.0       1.0     1.0  female  35.0    1.0    0.0  53.1000  C123   \n",
      "4          5.0       0.0     3.0    male  35.0    0.0    0.0   8.0500   NaN   \n",
      "\n",
      "  Embarked Survived_data category Family  \n",
      "0        S            No     male    Yes  \n",
      "1        C           Yes   female    Yes  \n",
      "2        S           Yes   female     No  \n",
      "3        S           Yes   female    Yes  \n",
      "4        S            No     male     No  \n"
     ]
    }
   ],
   "source": [
    "def family(passenger):\n",
    "    if ((passenger.Parch == 0) and (passenger.SibSp == 0)):\n",
    "        passenger['Family'] = 'No'\n",
    "    else:\n",
    "        passenger['Family'] = 'Yes'\n",
    "    \n",
    "    return passenger\n",
    "        \n",
    "titanic_data_family = titanic_data_cat.apply(family, axis = 1)\n",
    "print titanic_data_family.head()"
   ]
  },
  {
   "cell_type": "code",
   "execution_count": 123,
   "metadata": {},
   "outputs": [
    {
     "data": {
      "text/plain": [
       "<seaborn.axisgrid.FacetGrid at 0x15caaef0>"
      ]
     },
     "execution_count": 123,
     "metadata": {},
     "output_type": "execute_result"
    },
    {
     "data": {
      "image/png": "[encoded data removed]",
      "text/plain": [
       "<matplotlib.figure.Figure at 0x16b98cf8>"
      ]
     },
     "metadata": {},
     "output_type": "display_data"
    }
   ],
   "source": [
    "sns.factorplot('Family', hue = 'category',data = titanic_data_family, kind = 'count')"
   ]
  },
  {
   "cell_type": "markdown",
   "metadata": {},
   "source": [
    "Above graph shows the number of passengers travelling with family with respect to category"
   ]
  },
  {
   "cell_type": "code",
   "execution_count": 124,
   "metadata": {},
   "outputs": [
    {
     "data": {
      "text/plain": [
       "<matplotlib.text.Text at 0x1755e390>"
      ]
     },
     "execution_count": 124,
     "metadata": {},
     "output_type": "execute_result"
    },
    {
     "data": {
      "image/png": "[encoded data removed]",
      "text/plain": [
       "<matplotlib.figure.Figure at 0x16fc31d0>"
      ]
     },
     "metadata": {},
     "output_type": "display_data"
    }
   ],
   "source": [
    "sns.factorplot('Family', 'Survived', hue = 'category',data = titanic_data_family, kind = 'bar')\n",
    "plt.title('Chances of survival for passengers with respect to Category and Family')\n",
    "plt.ylabel('Survived Probability')\n"
   ]
  },
  {
   "cell_type": "markdown",
   "metadata": {},
   "source": [
    "From the above graph it looks like there is no significant effect of having family or not on the chances of survival. So I would like to see if the family has any effect with respect to Pclass. Below is the analysis and plot that shows the chances of survival for passengers with Family in each Pclass"
   ]
  },
  {
   "cell_type": "code",
   "execution_count": 125,
   "metadata": {},
   "outputs": [
    {
     "data": {
      "text/plain": [
       "<matplotlib.text.Text at 0x17558828>"
      ]
     },
     "execution_count": 125,
     "metadata": {},
     "output_type": "execute_result"
    },
    {
     "data": {
      "image/png": "[encoded data removed]",
      "text/plain": [
       "<matplotlib.figure.Figure at 0x170b5668>"
      ]
     },
     "metadata": {},
     "output_type": "display_data"
    }
   ],
   "source": [
    "sns.factorplot('Family','Survived', hue = 'Pclass',data = titanic_data_family, kind = 'bar')\n",
    "plt.title('Chances of survival for Family with respect to Passenger class')\n",
    "plt.ylabel('Survived Probability')\n"
   ]
  },
  {
   "cell_type": "markdown",
   "metadata": {},
   "source": [
    "From the above graph it cetainly looks like there is significant increase in chance of survival with family in each passenger class. \n",
    "\n",
    "Now I would like to analyze the Embarked port column and see if there is any effect of this on the chances of survival."
   ]
  },
  {
   "cell_type": "code",
   "execution_count": 126,
   "metadata": {},
   "outputs": [
    {
     "data": {
      "text/plain": [
       "<matplotlib.text.Text at 0x17d632b0>"
      ]
     },
     "execution_count": 126,
     "metadata": {},
     "output_type": "execute_result"
    },
    {
     "data": {
      "image/png": "[encoded data removed]",
      "text/plain": [
       "<matplotlib.figure.Figure at 0x179d0940>"
      ]
     },
     "metadata": {},
     "output_type": "display_data"
    }
   ],
   "source": [
    "titanic_data.Embarked.value_counts().plot(kind = 'bar')\n",
    "plt.title('Distribution of Embarked')\n",
    "plt.xlabel('Embarked Port')\n",
    "plt.ylabel('Count')\n"
   ]
  },
  {
   "cell_type": "markdown",
   "metadata": {},
   "source": [
    "Above graph shows the number of passengers from each port. Let us analyze the number of passengers survived from each port."
   ]
  },
  {
   "cell_type": "code",
   "execution_count": 127,
   "metadata": {},
   "outputs": [
    {
     "data": {
      "text/plain": [
       "<seaborn.axisgrid.FacetGrid at 0x1549c4e0>"
      ]
     },
     "execution_count": 127,
     "metadata": {},
     "output_type": "execute_result"
    },
    {
     "data": {
      "image/png": "[encoded data removed]",
      "text/plain": [
       "<matplotlib.figure.Figure at 0x17f09d30>"
      ]
     },
     "metadata": {},
     "output_type": "display_data"
    }
   ],
   "source": [
    "sns.factorplot(x='Embarked', hue='Survived', data= titanic_data_cat, kind='count',  ci = None, legend = True, aspect = 1.0 )"
   ]
  },
  {
   "cell_type": "markdown",
   "metadata": {},
   "source": [
    "Above graph shows the number of passengers survived from each port. I would like to analyze the chances of survival for the passengers from diffrent ports based on the category. Below is the plot that shows the comparision of the survival chances based on port and category"
   ]
  },
  {
   "cell_type": "code",
   "execution_count": 128,
   "metadata": {},
   "outputs": [
    {
     "data": {
      "text/plain": [
       "<matplotlib.text.Text at 0x18220160>"
      ]
     },
     "execution_count": 128,
     "metadata": {},
     "output_type": "execute_result"
    },
    {
     "data": {
      "image/png": "[encoded data removed]",
      "text/plain": [
       "<matplotlib.figure.Figure at 0x17550a20>"
      ]
     },
     "metadata": {},
     "output_type": "display_data"
    }
   ],
   "source": [
    "sns.factorplot(x='category', y = 'Survived', hue='Embarked', data= titanic_data_cat, kind='bar',  ci = None, legend = True, aspect = 1.0 )\n",
    "plt.ylabel('Survived Probability')\n"
   ]
  },
  {
   "cell_type": "markdown",
   "metadata": {
    "collapsed": true
   },
   "source": [
    "Ideally there should not be any major difference between the chances of survival based on the port embarked. But looks like there is significant increase in chance if embarked at port \"C\" that is 'Cherbourg'. The reason could be the deck passengers from that port might be allocated. Passengers from that port must have been seated or allocated a portion of the ship that is easily accessible for the emergency evacuation.\n",
    "\n",
    "I would like to see the last column, \"Cabin\" if it can help in any sort of analysis. So Cabin numbers would not help in much of the analysis. So I have used the Cabin numbers to determine the level of the passenger cabin to see if that can help in any good data analysis"
   ]
  },
  {
   "cell_type": "code",
   "execution_count": 129,
   "metadata": {},
   "outputs": [
    {
     "data": {
      "text/plain": [
       "C    59\n",
       "B    47\n",
       "D    33\n",
       "E    32\n",
       "A    15\n",
       "F    13\n",
       "G     4\n",
       "T     1\n",
       "Name: level, dtype: int64"
      ]
     },
     "execution_count": 129,
     "metadata": {},
     "output_type": "execute_result"
    }
   ],
   "source": [
    "level = []\n",
    "for i in titanic_data['Cabin'].dropna():\n",
    "    level.append(i[0])\n",
    "\n",
    "cabin = pd.DataFrame(level)\n",
    "cabin.columns = ['level']\n",
    "cabin['level'].value_counts()\n",
    "\n",
    "#sns.factorplot('level',order = ['A','B','C','D','E','F','G'], data =cabin, kind = 'count')"
   ]
  },
  {
   "cell_type": "markdown",
   "metadata": {},
   "source": [
    "The above analysis gives out the number of passengers in each level and looks like there is a lot of missing data. Let me try to analyze what ever records available as it doesnt look ideal to impute the missing values.\n",
    "\n",
    "Below function adds a column called Level for each record based on the cabin number."
   ]
  },
  {
   "cell_type": "code",
   "execution_count": 130,
   "metadata": {
    "scrolled": false
   },
   "outputs": [
    {
     "data": {
      "text/html": [
       "<div>\n",
       "<style>\n",
       "    .dataframe thead tr:only-child th {\n",
       "        text-align: right;\n",
       "    }\n",
       "\n",
       "    .dataframe thead th {\n",
       "        text-align: left;\n",
       "    }\n",
       "\n",
       "    .dataframe tbody tr th {\n",
       "        vertical-align: top;\n",
       "    }\n",
       "</style>\n",
       "<table border=\"1\" class=\"dataframe\">\n",
       "  <thead>\n",
       "    <tr style=\"text-align: right;\">\n",
       "      <th></th>\n",
       "      <th>PassengerId</th>\n",
       "      <th>Survived</th>\n",
       "      <th>Pclass</th>\n",
       "      <th>Sex</th>\n",
       "      <th>Age</th>\n",
       "      <th>SibSp</th>\n",
       "      <th>Parch</th>\n",
       "      <th>Fare</th>\n",
       "      <th>Cabin</th>\n",
       "      <th>Embarked</th>\n",
       "      <th>Survived_data</th>\n",
       "      <th>category</th>\n",
       "      <th>Family</th>\n",
       "      <th>level</th>\n",
       "    </tr>\n",
       "  </thead>\n",
       "  <tbody>\n",
       "    <tr>\n",
       "      <th>0</th>\n",
       "      <td>1.0</td>\n",
       "      <td>0.0</td>\n",
       "      <td>3.0</td>\n",
       "      <td>male</td>\n",
       "      <td>22.0</td>\n",
       "      <td>1.0</td>\n",
       "      <td>0.0</td>\n",
       "      <td>7.2500</td>\n",
       "      <td>NaN</td>\n",
       "      <td>S</td>\n",
       "      <td>No</td>\n",
       "      <td>male</td>\n",
       "      <td>Yes</td>\n",
       "      <td>NaN</td>\n",
       "    </tr>\n",
       "    <tr>\n",
       "      <th>1</th>\n",
       "      <td>2.0</td>\n",
       "      <td>1.0</td>\n",
       "      <td>1.0</td>\n",
       "      <td>female</td>\n",
       "      <td>38.0</td>\n",
       "      <td>1.0</td>\n",
       "      <td>0.0</td>\n",
       "      <td>71.2833</td>\n",
       "      <td>C85</td>\n",
       "      <td>C</td>\n",
       "      <td>Yes</td>\n",
       "      <td>female</td>\n",
       "      <td>Yes</td>\n",
       "      <td>C</td>\n",
       "    </tr>\n",
       "    <tr>\n",
       "      <th>2</th>\n",
       "      <td>3.0</td>\n",
       "      <td>1.0</td>\n",
       "      <td>3.0</td>\n",
       "      <td>female</td>\n",
       "      <td>26.0</td>\n",
       "      <td>0.0</td>\n",
       "      <td>0.0</td>\n",
       "      <td>7.9250</td>\n",
       "      <td>NaN</td>\n",
       "      <td>S</td>\n",
       "      <td>Yes</td>\n",
       "      <td>female</td>\n",
       "      <td>No</td>\n",
       "      <td>NaN</td>\n",
       "    </tr>\n",
       "    <tr>\n",
       "      <th>3</th>\n",
       "      <td>4.0</td>\n",
       "      <td>1.0</td>\n",
       "      <td>1.0</td>\n",
       "      <td>female</td>\n",
       "      <td>35.0</td>\n",
       "      <td>1.0</td>\n",
       "      <td>0.0</td>\n",
       "      <td>53.1000</td>\n",
       "      <td>C123</td>\n",
       "      <td>S</td>\n",
       "      <td>Yes</td>\n",
       "      <td>female</td>\n",
       "      <td>Yes</td>\n",
       "      <td>C</td>\n",
       "    </tr>\n",
       "    <tr>\n",
       "      <th>4</th>\n",
       "      <td>5.0</td>\n",
       "      <td>0.0</td>\n",
       "      <td>3.0</td>\n",
       "      <td>male</td>\n",
       "      <td>35.0</td>\n",
       "      <td>0.0</td>\n",
       "      <td>0.0</td>\n",
       "      <td>8.0500</td>\n",
       "      <td>NaN</td>\n",
       "      <td>S</td>\n",
       "      <td>No</td>\n",
       "      <td>male</td>\n",
       "      <td>No</td>\n",
       "      <td>NaN</td>\n",
       "    </tr>\n",
       "  </tbody>\n",
       "</table>\n",
       "</div>"
      ],
      "text/plain": [
       "   PassengerId  Survived  Pclass     Sex   Age  SibSp  Parch     Fare Cabin  \\\n",
       "0          1.0       0.0     3.0    male  22.0    1.0    0.0   7.2500   NaN   \n",
       "1          2.0       1.0     1.0  female  38.0    1.0    0.0  71.2833   C85   \n",
       "2          3.0       1.0     3.0  female  26.0    0.0    0.0   7.9250   NaN   \n",
       "3          4.0       1.0     1.0  female  35.0    1.0    0.0  53.1000  C123   \n",
       "4          5.0       0.0     3.0    male  35.0    0.0    0.0   8.0500   NaN   \n",
       "\n",
       "  Embarked Survived_data category Family level  \n",
       "0        S            No     male    Yes   NaN  \n",
       "1        C           Yes   female    Yes     C  \n",
       "2        S           Yes   female     No   NaN  \n",
       "3        S           Yes   female    Yes     C  \n",
       "4        S            No     male     No   NaN  "
      ]
     },
     "execution_count": 130,
     "metadata": {},
     "output_type": "execute_result"
    }
   ],
   "source": [
    "def addlevel(passenger):\n",
    "    if isinstance(passenger.Cabin, str):\n",
    "        passenger['level'] = passenger.Cabin[0]\n",
    "    else:\n",
    "        passenger['level'] = passenger.Cabin\n",
    "    return passenger\n",
    "        \n",
    "titanic_data_level = titanic_data_family.apply(addlevel, axis = 1)\n",
    "\n",
    "titanic_data_level.head()"
   ]
  },
  {
   "cell_type": "markdown",
   "metadata": {},
   "source": [
    "I would like to show the plot of number of passengers in each of the levels and compare them."
   ]
  },
  {
   "cell_type": "code",
   "execution_count": 131,
   "metadata": {},
   "outputs": [
    {
     "name": "stdout",
     "output_type": "stream",
     "text": [
      "C    59\n",
      "B    47\n",
      "D    33\n",
      "E    32\n",
      "A    15\n",
      "F    13\n",
      "G     4\n",
      "T     1\n",
      "Name: level, dtype: int64\n"
     ]
    },
    {
     "data": {
      "text/plain": [
       "<matplotlib.text.Text at 0x18857e80>"
      ]
     },
     "execution_count": 131,
     "metadata": {},
     "output_type": "execute_result"
    },
    {
     "data": {
      "image/png": "[encoded data removed]",
      "text/plain": [
       "<matplotlib.figure.Figure at 0x1823f2e8>"
      ]
     },
     "metadata": {},
     "output_type": "display_data"
    }
   ],
   "source": [
    "print titanic_data_level.level.value_counts()\n",
    "sns.factorplot('level',data = titanic_data_level, kind = 'count', order = ['A','B','C','D','E','F','G'])\n",
    "plt.title('Distribution of passengers in different levels')"
   ]
  },
  {
   "cell_type": "markdown",
   "metadata": {},
   "source": [
    "Below is the plot to see number of survivors in each level."
   ]
  },
  {
   "cell_type": "code",
   "execution_count": 132,
   "metadata": {},
   "outputs": [
    {
     "data": {
      "text/plain": [
       "<matplotlib.text.Text at 0x188dc5c0>"
      ]
     },
     "execution_count": 132,
     "metadata": {},
     "output_type": "execute_result"
    },
    {
     "data": {
      "image/png": "[encoded data removed]",
      "text/plain": [
       "<matplotlib.figure.Figure at 0x1752ce48>"
      ]
     },
     "metadata": {},
     "output_type": "display_data"
    }
   ],
   "source": [
    "sns.factorplot('level',hue = 'Survived',data = titanic_data_level, kind = 'count', order = ['A','B','C','D','E','F','G'])\n",
    "plt.title('Distribution of Survivors wrt levels')"
   ]
  },
  {
   "cell_type": "markdown",
   "metadata": {},
   "source": [
    "Below is the plot to see chances of survival in each level. Looks like all of the levels are having similar chances of survival."
   ]
  },
  {
   "cell_type": "code",
   "execution_count": 133,
   "metadata": {},
   "outputs": [
    {
     "data": {
      "text/plain": [
       "<matplotlib.text.Text at 0x18b4b6d8>"
      ]
     },
     "execution_count": 133,
     "metadata": {},
     "output_type": "execute_result"
    },
    {
     "data": {
      "image/png": "[encoded data removed]",
      "text/plain": [
       "<matplotlib.figure.Figure at 0x18b40438>"
      ]
     },
     "metadata": {},
     "output_type": "display_data"
    }
   ],
   "source": [
    "sns.factorplot('level','Survived',data = titanic_data_level, kind = 'bar', order = ['A','B','C','D','E','F','G'], aspect = 2)\n",
    "plt.title('Chances of survival wrt level')\n",
    "plt.ylabel('Survived Probability')\n"
   ]
  },
  {
   "cell_type": "markdown",
   "metadata": {},
   "source": [
    "Below is the plot which shows the chances of survival with respect to level and category. This analysis shows that Females and children from the level A and B are having highest chances of survival. But remember that this is only small amout of data due to the missing values. So we need more data with the level information to conclude this analysis."
   ]
  },
  {
   "cell_type": "code",
   "execution_count": 134,
   "metadata": {},
   "outputs": [
    {
     "data": {
      "text/plain": [
       "<matplotlib.text.Text at 0x18e2f1d0>"
      ]
     },
     "execution_count": 134,
     "metadata": {},
     "output_type": "execute_result"
    },
    {
     "data": {
      "image/png": "[encoded data removed]",
      "text/plain": [
       "<matplotlib.figure.Figure at 0x184956d8>"
      ]
     },
     "metadata": {},
     "output_type": "display_data"
    }
   ],
   "source": [
    "sns.factorplot('level','Survived', hue = 'category',data = titanic_data_level, kind = 'bar', order = ['A','B','C','D','E','F','G'], aspect = 2)\n",
    "plt.title('Chances of survival wrt to level and category')\n",
    "plt.ylabel('Survived Probability')\n"
   ]
  },
  {
   "cell_type": "markdown",
   "metadata": {},
   "source": [
    "Below is the plot to see which levels belong which class of the passengers."
   ]
  },
  {
   "cell_type": "code",
   "execution_count": 135,
   "metadata": {},
   "outputs": [
    {
     "data": {
      "text/plain": [
       "<matplotlib.text.Text at 0x1708ee48>"
      ]
     },
     "execution_count": 135,
     "metadata": {},
     "output_type": "execute_result"
    },
    {
     "data": {
      "image/png": "[encoded data removed]",
      "text/plain": [
       "<matplotlib.figure.Figure at 0x19102c50>"
      ]
     },
     "metadata": {},
     "output_type": "display_data"
    }
   ],
   "source": [
    "sns.factorplot('level',hue = 'Pclass',data = titanic_data_level,kind = 'count', order = ['A','B','C','D','E','F','G'] )\n",
    "plt.title('Passenger class and levels comparision')"
   ]
  },
  {
   "cell_type": "markdown",
   "metadata": {
    "collapsed": true
   },
   "source": [
    "## Conclusion\n",
    "Based on all the analysis, Strong factors that can affect the chances of survival are Age, Sex and Pclass. Other factors like Embarked port, Family and Cabin have less affect when compared to the earlier factors. I believe these factors have more affect when combined with one or more factors of Age, Sex and Pclass. I believe there was a cautious effort to save females and children. I have considered the children below age 15 as the child category as it looked like there was a significant change in chances of survival I observed for the age below 15. Passenger class had a significant effect on the survival chances as well. Based on the analysis of cabin  and passenger class I feel the levels were A, B, C, D, E, F, G were literally from top to bottom of the ship. So chances of survival for the passengers in the top levels of the ship are higher I believe. Family of the passengers made a significant effect on the survival chances as well.\n",
    "\n",
    "### Limitations\n",
    "There are missing values in the columns Age, Embarked and Cabin data. I have chosen to exclude the records in the analysis as I believe there are enough records even after excluding the missing records. In case of Cabin data I believe there are more missing records, so we have to be cautious while using that analysis. I believe excluding the missing records would reduce the significance of the analysis.\n",
    "Information on groups of friends and family who boarded together and how many survived from each group would be useful to measure the significance of the family in the chances of survival. \n",
    "Information regarding where on the board passenger is located which can tell us the ease of escape from the ship or chance of the passenger getting on to the life boats is missing.\n",
    "All the analysis I have done is based on individual factors and I believe there would be statistical significance that can be evaluated to each of the factor to see how significant is each factor and what played crusial role in chances of survival.\n",
    "\n",
    "\n",
    "\n",
    "\n"
   ]
  },
  {
   "cell_type": "code",
   "execution_count": null,
   "metadata": {
    "collapsed": true
   },
   "outputs": [],
   "source": []
  }
 ],
 "metadata": {
  "kernelspec": {
   "display_name": "Python [conda env:test1]",
   "language": "python",
   "name": "conda-env-test1-py"
  },
  "language_info": {
   "codemirror_mode": {
    "name": "ipython",
    "version": 2
   },
   "file_extension": ".py",
   "mimetype": "text/x-python",
   "name": "python",
   "nbconvert_exporter": "python",
   "pygments_lexer": "ipython2",
   "version": "2.7.13"
  }
 },
 "nbformat": 4,
 "nbformat_minor": 2
}
