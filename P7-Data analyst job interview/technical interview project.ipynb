{
 "cells": [
  {
   "cell_type": "markdown",
   "metadata": {},
   "source": [
    "# Question 1\n",
    "Given two strings s and t, determine whether some anagram of t is a substring of s. For example: if s = \"udacity\" and t = \"ad\", then the function returns True. Your function definition should look like: question1(s, t) and return a boolean True or False."
   ]
  },
  {
   "cell_type": "code",
   "execution_count": 1,
   "metadata": {
    "collapsed": true
   },
   "outputs": [],
   "source": [
    "def hash_map(string):\n",
    "    \"\"\"Input: String\n",
    "    Output: Unique hash\"\"\"\n",
    "    char_map = {'a': 2, 'b': 3, 'c': 5, 'd': 7, 'e': 11,\n",
    "    'f': 13, 'g': 17, 'h': 19, 'i': 23, 'j': 29, \n",
    "    'k': 31, 'l': 37, 'm': 41, 'n': 43, 'o': 47,\n",
    "    'p': 53, 'q': 59, 'r': 61, 's': 67, 't': 71, \n",
    "    'u': 73, 'v': 79, 'w': 83, 'x': 89, 'y': 97,'z': 101}\n",
    "    \n",
    "    string = string.lower()\n",
    "    output = 1\n",
    "    for char in string:\n",
    "        output *= char_map[char]   \n",
    "    return output"
   ]
  },
  {
   "cell_type": "code",
   "execution_count": 2,
   "metadata": {
    "collapsed": true
   },
   "outputs": [],
   "source": [
    "def question1(s,t):\n",
    "    found = False\n",
    "    \n",
    "    if len(s) == 0 or len(t) == 0:\n",
    "        return \"Error: Length of input/s must be greater than 0.\"\n",
    "    \n",
    "    elif len(t) > len(s):\n",
    "        return \"Error: Length of t greater than length of s.\"\n",
    "    \n",
    "    else:\n",
    "        hash_t = hash_map(t) # Calculate the hash of t\n",
    "        child = s[0:len(t)]  # Get the first substring from s equals to size of t\n",
    "        hash_child = hash_map(child) # Calculate the hash of first substring of s\n",
    "\n",
    "        if hash_t == hash_child:  # Check to see if the first susbtring of s has the same hash as t\n",
    "            found = True\n",
    "        for i in range(1, len(s) - len(t) + 1): # Keep the sliding window moving forward\n",
    "            child = s[i:i+len(t)]\n",
    "            hash_child = (hash_child*hash_map(s[i- 1 + len(t)])) / hash_map(s[i-1]) # Recalculate hash\n",
    "            if hash_t == hash_child:\n",
    "                found = True\n",
    "    return found"
   ]
  },
  {
   "cell_type": "code",
   "execution_count": 3,
   "metadata": {},
   "outputs": [
    {
     "name": "stdout",
     "output_type": "stream",
     "text": [
      "True\n",
      "False\n",
      "Error: Length of input/s must be greater than 0.\n",
      "Error: Length of input/s must be greater than 0.\n",
      "Error: Length of t greater than length of s.\n"
     ]
    }
   ],
   "source": [
    "# Test cases\n",
    "s = \"udacity\"\n",
    "t = \"ad\"\n",
    "print question1(s, t)\n",
    "# Should be True\n",
    "\n",
    "s = \"udacity\"\n",
    "t = \"ag\"\n",
    "print question1(s, t)\n",
    "# Should be False\n",
    "\n",
    "s = \"\"\n",
    "t = \"ag\"\n",
    "print question1(s, t)\n",
    "# Should be \"Error: Length of input/s must be greater than 0.\"\n",
    "\n",
    "s = \"udacity\"\n",
    "t = \"\"\n",
    "print question1(s, t)\n",
    "# Should be \"Error: Length of input/s must be greater than 0.\"\n",
    "\n",
    "s = \"udacity\"\n",
    "t = \"udacious\"\n",
    "print question1(s, t)\n",
    "# Should be \"Error: Length of t greater than length of s.\""
   ]
  },
  {
   "cell_type": "markdown",
   "metadata": {},
   "source": [
    "First, we design a function to calculate the unique hash for each string. We keep a sliding window of length t and use the function to calculate the hash of both s and t. If they are the same we have found an anagram. If not we move the sliding window forward one character at a time. This new substring adds one new character and loses one character compared to the previous substring. We update the hash map based on the current substring inside the window and compare it to the hash map of t. \n",
    "We have to iterate through the string at least once. So the time complexity of this algorithm is O(len(s)). The space complexity of this algorithm is constant and hence O(1).\n",
    "\n"
   ]
  },
  {
   "cell_type": "markdown",
   "metadata": {},
   "source": [
    "\n",
    "# Question 2\n",
    "Given a string a, find the longest palindromic substring contained in a. Your function definition should look like question2(a), and return a string."
   ]
  },
  {
   "cell_type": "code",
   "execution_count": 4,
   "metadata": {
    "collapsed": true
   },
   "outputs": [],
   "source": [
    "def question2(a):\n",
    "    \"\"\"Input: string \n",
    "    1) Input should be either all uppercase or lowercase.\n",
    "    2) Input containing palindromes with spaces in between is not considered palindrome.\n",
    "    Output: longest palindromic substring\"\"\"\n",
    "    \n",
    "    start = 0\n",
    "    max_length = 1\n",
    "    \n",
    "    for i in range(1, len(a)): \n",
    "        # checking for even palindrome\n",
    "        lower = i - 1\n",
    "        upper = i\n",
    "        while lower >= 0 and upper < len(a) and a[lower] == a[upper]:\n",
    "            if (upper - lower + 1) > max_length:\n",
    "                start = lower\n",
    "                max_length = upper - lower + 1\n",
    "            lower += -1\n",
    "            upper += 1\n",
    "            \n",
    "        # checking for odd palindrome\n",
    "        lower = i - 1\n",
    "        upper = i + 1\n",
    "        while lower >= 0 and upper < len(a) and a[lower] == a[upper]:\n",
    "            if (upper - lower + 1) > max_length:\n",
    "                start = lower\n",
    "                max_length = upper - lower + 1\n",
    "            lower += -1\n",
    "            upper += 1\n",
    "    \n",
    "    if max_length > 1:\n",
    "        return a[start:start + max_length]\n",
    "    else: \n",
    "        return None"
   ]
  },
  {
   "cell_type": "code",
   "execution_count": 14,
   "metadata": {},
   "outputs": [
    {
     "name": "stdout",
     "output_type": "stream",
     "text": [
      "amoreroma\n",
      "racecar\n",
      "None\n",
      "None\n"
     ]
    }
   ],
   "source": [
    "# Test cases\n",
    "a = 'amoreroma'\n",
    "print(question2(a))\n",
    "\n",
    "a = 'werewracecar'\n",
    "print(question2(a))\n",
    "\n",
    "a = ''\n",
    "print(question2(a))\n",
    "# Should be None\n",
    "\n",
    "a = 'Amore roma'\n",
    "print(question2(a))\n",
    "# Should be None"
   ]
  },
  {
   "cell_type": "markdown",
   "metadata": {},
   "source": [
    "For each character in the string the program checks for the character before and after that character (in the case of odd palindrome). If they don't match it stops looking. However, if it does match it continues looking to the left and the right. In the worst case, if the string is a single repeated character this process might be repeated for all the characters since each substring is a palindrome. So, the time complexity of this algorithm is O((len(a))^2). This program does not require any extra space, hence the space complexity of this algorithm is O(1)"
   ]
  },
  {
   "cell_type": "markdown",
   "metadata": {},
   "source": [
    "# Question 3\n",
    "Given an undirected graph G, find the minimum spanning tree within G. A minimum spanning tree connects all vertices in a graph with the smallest possible total weight of edges. Your function should take in and return an adjacency list structured like this:\n",
    "\n",
    "{'A': [('B', 2)],\n",
    " 'B': [('A', 2), ('C', 5)], \n",
    " 'C': [('B', 5)]}\n",
    "Vertices are represented as unique strings. The function definition should be question3(G)"
   ]
  },
  {
   "cell_type": "code",
   "execution_count": 6,
   "metadata": {
    "collapsed": true
   },
   "outputs": [],
   "source": [
    "def preprocess_input(G):\n",
    "    \"\"\"Input: Adjacency List\n",
    "    Output: Nodes and List of tuples sorted by their weights\"\"\"\n",
    "    \n",
    "    nodes = set()\n",
    "    graph = set()\n",
    "    \n",
    "    # Convert adjacency list to set of lists\n",
    "    for node in G.keys():\n",
    "        nodes.add(node)\n",
    "        for vertex in G[node]:\n",
    "            nodes.add(vertex[0])\n",
    "            if node < vertex[0]:\n",
    "                graph.add((node, vertex[0], vertex[1]))\n",
    "            elif node > vertex[0]:\n",
    "                graph.add((vertex[0], node, vertex[1]))\n",
    "    \n",
    "    # Sort all the edges in increasing order of their weight\n",
    "    graph = sorted(graph, key = lambda x: x[2])\n",
    "    return nodes, graph\n",
    "\n",
    "def find(parent, node):\n",
    "    \"\"\"Helper function to find the subset to which node belongs\"\"\"\n",
    "    if parent[node] == node:\n",
    "        return node\n",
    "    else:\n",
    "        return find(parent, parent[node])\n",
    "    \n",
    "def union(parent, rank, subset1, subset2):\n",
    "    \"\"\"Helper function to do union of two subsets- subset1 and subset2.\n",
    "    Implements union by rank\"\"\"\n",
    "    subset1 = find(parent, subset1)\n",
    "    subset2 = find(parent, subset2)\n",
    "    \n",
    "    if rank[subset1] > rank[subset2]:\n",
    "        parent[subset2] = subset1\n",
    "    elif rank[subset2] > rank[subset1]:\n",
    "        parent[subset1] = subset2\n",
    "    else:\n",
    "        parent[subset1] = subset2\n",
    "        rank[subset2] += 1\n",
    "    \n",
    "def process_output(mst):\n",
    "    \"\"\"Input: A list of lists\n",
    "    Output: Adjacency list\"\"\"\n",
    "    adjacency_list = {}\n",
    "    for node1, node2, w in mst:\n",
    "        if node1 in adjacency_list:\n",
    "            adjacency_list[node1].append((node2, w))\n",
    "        else:\n",
    "            adjacency_list[node1] = [(node2, w)]\n",
    "    return adjacency_list \n",
    "\n",
    "def question3(G):\n",
    "    mst = [] # Store the Minimum Spanning Tree obtained from Graph\n",
    "    \n",
    "    # Preprocess the graph as list of tuples sorted by their weights\n",
    "    nodes, graph = preprocess_input(G)\n",
    "    # print graph\n",
    "    \n",
    "    # Initialize the parent of node as node itself and rank as 0\n",
    "    parent = {}\n",
    "    rank = {}\n",
    "    \n",
    "    for node in nodes:\n",
    "        parent[node] = node\n",
    "        rank[node] = 0\n",
    "    \n",
    "    for edge in graph:\n",
    "        \n",
    "        # Pick the edge with smallest weight and \n",
    "        # find the subset to which each node in the edge belongs\n",
    "        node1,node2,w = edge\n",
    "        subset1 = find(parent, node1)\n",
    "        subset2 = find(parent, node2)\n",
    "        \n",
    "        # If including this edge doesn't form a cycle include it in the minimum spannining tree (mst)\n",
    "        if subset1 != subset2:\n",
    "            mst.append([node1, node2, w])\n",
    "            union(parent, rank, subset1, subset2)\n",
    "        # If including this edge results in cycle, discard it.\n",
    "    return process_output(mst)"
   ]
  },
  {
   "cell_type": "code",
   "execution_count": 7,
   "metadata": {},
   "outputs": [
    {
     "name": "stdout",
     "output_type": "stream",
     "text": [
      "{}\n",
      "{'A': [('B', 2)]}\n",
      "{'A': [('D', 5), ('B', 10)], 'C': [('D', 4)]}\n"
     ]
    }
   ],
   "source": [
    "# Test cases\n",
    "G = {}\n",
    "print(question3(G)) \n",
    "# Should be {}\n",
    "\n",
    "G = {'B': [('A', 2)]}\n",
    "print(question3(G)) \n",
    "# Should be {'A': [('B', 2)]}\n",
    "\n",
    "G = {'A': [('B', 10), ('C', 6), ('D', 5)],\n",
    "      'B': [('D', 15), ('A', 10)], \n",
    "      'C': [('D', 4), ('A', 6)]}\n",
    "print(question3(G)) \n",
    "# Should be {'A': [('D', 5), ('B', 10)], 'C': [('D', 4)]}"
   ]
  },
  {
   "cell_type": "markdown",
   "metadata": {},
   "source": [
    "I used Kruskal's algorithm to solve this problem.\n",
    "\n",
    "1. Sort all the edges in increasing order of their weight.\n",
    "2. Iterate through each edge starting from the one with the smallest weight (Greedy Algorithm).\n",
    "3. If it does not form a cycle include it, else discard it. To detect cycles, I used a disjoint-set data structure (Union&Find) to keep track of which vertices are in which subsets.\n",
    "\n",
    "The default sorting of edges in Python takes O(ElogE). We iterate through each edge once O(E) and apply find-union algorithm which can take at most O(logV). Hence the time complexity of this algorithm is O(ElogE) + O(ElogV). The space complexity of this algorithm is O(E + V).\n",
    "\n",
    "E is the number of edges in the graph and V is the number of vertices."
   ]
  },
  {
   "cell_type": "markdown",
   "metadata": {},
   "source": [
    "# Question 4\n",
    "Find the least common ancestor between two nodes on a binary search tree. The least common ancestor is the farthest node from the root that is an ancestor of both nodes. For example, the root is a common ancestor of all nodes on the tree, but if both nodes are descendents of the root's left child, then that left child might be the lowest common ancestor. You can assume that both nodes are in the tree, and the tree itself adheres to all BST properties. The function definition should look like question4(T, r, n1, n2), where T is the tree represented as a matrix, where the index of the list is equal to the integer stored in that node and a 1 represents a child node, r is a non-negative integer representing the root, and n1 and n2 are non-negative integers representing the two nodes in no particular order. For example, one test case might be\n",
    "\n",
    "question4([[0, 1, 0, 0, 0],\n",
    "           [0, 0, 0, 0, 0],\n",
    "           [0, 0, 0, 0, 0],\n",
    "           [1, 0, 0, 0, 1],\n",
    "           [0, 0, 0, 0, 0]],\n",
    "          3,\n",
    "          1,\n",
    "          4)\n",
    "and the answer would be 3."
   ]
  },
  {
   "cell_type": "code",
   "execution_count": 8,
   "metadata": {
    "collapsed": true
   },
   "outputs": [],
   "source": [
    "def preprocess_input(M):\n",
    "    \"\"\"Input: Matrix,\n",
    "    Output: Adjacency List representing a graph\"\"\"\n",
    "    \n",
    "    from collections import defaultdict\n",
    "    G = defaultdict(list)\n",
    "    \n",
    "    for i in range(len(M)):\n",
    "        for j in range(len(M[i])):\n",
    "            if M[i][j] == 1:\n",
    "                G[i].append(j)\n",
    "    return G\n",
    "\n",
    "def question4(T, r, n1, n2):\n",
    "    \"\"\"Finds Least Common Ancestor of Binary Search Tree recursively.\"\"\"\n",
    "    \n",
    "    # Convert matrix to adjacency list\n",
    "    G = preprocess_input(T)\n",
    "    \n",
    "    if len(T) == 0:\n",
    "        return \"Empty Tree\"\n",
    "    \n",
    "    if (n1 > len(T) or n2 > len(T)):\n",
    "        return \"One or both of the nodes not present in Tree.\"\n",
    "    \n",
    "    # If root is greater than both the nodes look to the left of the root.\n",
    "    if (r > n1 and r > n2):\n",
    "        return question4(G[r][0])\n",
    "    \n",
    "    # If root is smaller than both the nodes look to the right of the root.\n",
    "    if (r < n1 and r < n2):\n",
    "        return question4(G[r][1])\n",
    "    \n",
    "    # If root is in between node1 (n1) and node2 (n1) return root.\n",
    "    return r"
   ]
  },
  {
   "cell_type": "code",
   "execution_count": 9,
   "metadata": {},
   "outputs": [
    {
     "name": "stdout",
     "output_type": "stream",
     "text": [
      "3\n",
      "One or both of the nodes not present in Tree.\n",
      "Empty Tree\n"
     ]
    }
   ],
   "source": [
    "# Test cases\n",
    "print question4([[0, 1, 0, 0, 0],\n",
    "           [0, 0, 0, 0, 0],\n",
    "           [0, 0, 0, 0, 0],\n",
    "           [1, 0, 0, 0, 1],\n",
    "           [0, 0, 0, 0, 0]],\n",
    "          3,\n",
    "          1,\n",
    "          4)\n",
    "# Should be 3\n",
    "\n",
    "print question4([[0, 1, 0, 0, 0],\n",
    "           [0, 0, 0, 0, 0],\n",
    "           [0, 0, 0, 0, 0],\n",
    "           [1, 0, 0, 0, 1],\n",
    "           [0, 0, 0, 0, 0]],\n",
    "          3,\n",
    "          20,\n",
    "          20)\n",
    "# Should be \"One or both of the nodes not present in Tree.\"\n",
    "\n",
    "print question4([],\n",
    "          3,\n",
    "          1,\n",
    "          4)\n",
    "# Should be Empty Tree"
   ]
  },
  {
   "cell_type": "markdown",
   "metadata": {},
   "source": [
    "I have used the properties of Binary Search Tree (BST) to recursively traverse the tree. If the root is greater than both the nodes, then we look to the left of the root for LCA (Least Common Ancestor). If the root is smaller than both the nodes look to the right of the root for LCA. If the root is in the middle of two nodes, then the root is the LCA.\n",
    "\n",
    "The time complexity of above solution is O(h) where h is the height of the tree. Also, the above function makes recursive calls hence requires O(h) extra space."
   ]
  },
  {
   "cell_type": "markdown",
   "metadata": {},
   "source": [
    "# Question 5\n",
    "Find the element in a singly linked list that's m elements from the end. For example, if a linked list has 5 elements, the 3rd element from the end is the 3rd element. The function definition should look like question5(ll, m), where ll is the first node of a linked list and m is the \"mth number from the end\". You should copy/paste the Node class below to use as a representation of a node in the linked list. Return the value of the node at that position.\n",
    "\n",
    "class Node(object):\n",
    "  def __init__(self, data):\n",
    "    self.data = data\n",
    "    self.next = None"
   ]
  },
  {
   "cell_type": "code",
   "execution_count": 10,
   "metadata": {
    "collapsed": true
   },
   "outputs": [],
   "source": [
    "# A Node object contains the item and a reference to the next Node\n",
    "class Node(object): \n",
    "    def __init__(self, data):\n",
    "        self.data = data\n",
    "        self.next = None\n",
    "        \n",
    "# Linked List    \n",
    "class linked_list(object):\n",
    "    def __init__(self):\n",
    "        self.head = None\n",
    "        \n",
    "    def add(self, item): \n",
    "        \"\"\"Add a new item to the linked list.\"\"\"\n",
    "        temp = Node(item)\n",
    "        temp.next = self.head\n",
    "        self.head = temp\n",
    "        \n",
    "    def length(self):\n",
    "        \"\"\"Returns the length of linked list.\"\"\"\n",
    "        current = self.head\n",
    "        count = 0\n",
    "        while current != None:\n",
    "            count += 1\n",
    "            current = current.next\n",
    "        return count\n",
    "    \n",
    "def question5(ll, m):\n",
    "    \"\"\"Find the element in a singly linked list that's m elements from the end.\"\"\"\n",
    "    if ll.length() == 0:\n",
    "        return \"Error: Empty linked list.\"\n",
    "    elif m < ll.length():\n",
    "        current = ll.head\n",
    "        for i in range(ll.length() -m):\n",
    "            current = current.next\n",
    "        return current.data\n",
    "    return \"Error: Length of m greater than length of linked list.\"\n"
   ]
  },
  {
   "cell_type": "code",
   "execution_count": 11,
   "metadata": {},
   "outputs": [
    {
     "name": "stdout",
     "output_type": "stream",
     "text": [
      "60\n",
      "Error: Length of m greater than length of linked list.\n",
      "Error: Empty linked list.\n"
     ]
    }
   ],
   "source": [
    "# Test cases\n",
    "ll = linked_list()\n",
    "ll.add(90)\n",
    "ll.add(80)\n",
    "ll.add(70)\n",
    "ll.add(60)\n",
    "ll.add(50)\n",
    "ll.add(40)\n",
    "ll.add(30)\n",
    "ll.add(20)\n",
    "ll.add(10)\n",
    "\n",
    "print question5(ll, 4)\n",
    "# Should be 60\n",
    "\n",
    "print question5(ll, 13)\n",
    "# Should be Error: Length of m greater than length of linked list.\n",
    "\n",
    "ll = linked_list()\n",
    "print question5(ll, 4)"
   ]
  },
  {
   "cell_type": "markdown",
   "metadata": {},
   "source": [
    "The above solution implements a technique called linked list traversal in which we systematically visit each node. We start a pointer at the first node in the list and as we visit each node, we move the pointer to the next node. In the worst case, we have to traverse all the way to the end of the singly linked list and hence the worst case time complexity is O(len(ll)). Here the space complexity is O(1), since we are not creating any additional list other than input linked list."
   ]
  },
  {
   "cell_type": "code",
   "execution_count": null,
   "metadata": {
    "collapsed": true
   },
   "outputs": [],
   "source": []
  }
 ],
 "metadata": {
  "kernelspec": {
   "display_name": "Python 2",
   "language": "python",
   "name": "python2"
  },
  "language_info": {
   "codemirror_mode": {
    "name": "ipython",
    "version": 2
   },
   "file_extension": ".py",
   "mimetype": "text/x-python",
   "name": "python",
   "nbconvert_exporter": "python",
   "pygments_lexer": "ipython2",
   "version": "2.7.14"
  }
 },
 "nbformat": 4,
 "nbformat_minor": 2
}
